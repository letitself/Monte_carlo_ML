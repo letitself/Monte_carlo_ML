{
  "nbformat": 4,
  "nbformat_minor": 0,
  "metadata": {
    "colab": {
      "name": "Technical task.ipynb",
      "provenance": [],
      "collapsed_sections": []
    },
    "kernelspec": {
      "name": "python3",
      "display_name": "Python 3"
    },
    "language_info": {
      "name": "python"
    }
  },
  "cells": [
    {
      "cell_type": "markdown",
      "source": [
        "# Probability of passing exam (Part 1)\n",
        "\n"
      ],
      "metadata": {
        "id": "SL2H44SjFkOR"
      }
    },
    {
      "cell_type": "markdown",
      "source": [
        "**Task 1 A**\n",
        "\n",
        "Out of 69 topics, 5 are randomly given to a student that has prepared 20. \n",
        "\n",
        "To calculate the probability that the student knows at least 1 of the 5 given topics, we first calculate the probability that the student does not know either of them:\n",
        "\n",
        "(49/69) * (48/68) * (47/67) * (46/66) * (45/65)\n",
        "\n",
        "Since with every new topic the selection gets smaller, the number of unknown topics and the total number of topics also get smaller. Finally, we subtract the probability of not knowing either of the topics from 1:\n",
        "\n",
        "\n",
        "1 - (49/69) * (48/68) * (47/67) * (46/66) * (45/65) = 0.8303259514848628\n",
        "\n",
        "Therefore, the probability of a student who has learned 20 out of 69 topics to pass the exam by knowing at least 1 is ~ **0.83**"
      ],
      "metadata": {
        "id": "w_H4Lz9iBq94"
      }
    },
    {
      "cell_type": "markdown",
      "source": [
        "**Task 1 B**"
      ],
      "metadata": {
        "id": "KyEPpNgyOoOL"
      }
    },
    {
      "cell_type": "code",
      "source": [
        "import random\n",
        "from random import sample\n",
        "import matplotlib.pyplot as plt"
      ],
      "metadata": {
        "id": "UUbpO1XFgC1R"
      },
      "execution_count": null,
      "outputs": []
    },
    {
      "cell_type": "code",
      "source": [
        "\n",
        "def exam_probability(number_of_topics, known_topics, chosen_topics = 5):\n",
        "    list_of_topics = sample(range(1, 69), chosen_topics)\n",
        "    known_topics = sample(range(1, 69), known_topics)\n",
        "    result=list(set(list_of_topics) & set(known_topics))\n",
        "    if len(result) > 0:\n",
        "      exam_probability = True\n",
        "    else:\n",
        "      exam_probability = False\n",
        "    return exam_probability\n",
        "    \n"
      ],
      "metadata": {
        "id": "Cz3MMkSmeZ2i"
      },
      "execution_count": null,
      "outputs": []
    },
    {
      "cell_type": "code",
      "source": [
        "def monte_carlo(num_simulations, number_of_topics, known_topics, max_num_rolls = 1): \n",
        "  win_probability = []\n",
        "  for i in range(num_simulations):\n",
        "    num_rolls = [0]\n",
        "    num_wins = 0\n",
        "\n",
        "    while num_rolls[-1] < max_num_rolls:\n",
        "        same = exam_probability(number_of_topics, known_topics) #number of topics, and number of topics which is known by student\n",
        "        if same:\n",
        "            num_wins += 1\n",
        "        else:\n",
        "            pass\n",
        "\n",
        "        num_rolls.append(num_rolls[-1] + 1)\n",
        "    win_probability.append(num_wins/num_rolls[-1])\n",
        "\n",
        "  overall_win_probability = sum(win_probability)/len(win_probability)\n",
        "\n",
        "  print(\"Average exam passing probability after \" + str(num_simulations) + \" runs for \" + str(known_topics) + \" known topics: \" + str(overall_win_probability))"
      ],
      "metadata": {
        "id": "otZxpojit4WG"
      },
      "execution_count": null,
      "outputs": []
    },
    {
      "cell_type": "code",
      "source": [
        "monte_carlo(1000000, 69, 20)"
      ],
      "metadata": {
        "colab": {
          "base_uri": "https://localhost:8080/"
        },
        "id": "qQwwQK5Ce_3V",
        "outputId": "07a53106-9606-49b5-84db-f0ccc3926811"
      },
      "execution_count": null,
      "outputs": [
        {
          "output_type": "stream",
          "name": "stdout",
          "text": [
            "Average exam passing probability after 1000000 runs for 20 known topics: 0.836144\n"
          ]
        }
      ]
    },
    {
      "cell_type": "markdown",
      "source": [
        "Our script outputs almost the same result as our manual calculation, which means that we did everything right.\n",
        "Let's check what would be our probability to pass the exam if we only knew 15 topics instead of 20"
      ],
      "metadata": {
        "id": "in2okFCen0nE"
      }
    },
    {
      "cell_type": "code",
      "source": [
        "monte_carlo(1000000, 69, 15)"
      ],
      "metadata": {
        "colab": {
          "base_uri": "https://localhost:8080/"
        },
        "id": "lgXP-NldsPg-",
        "outputId": "00d5650d-10e0-490c-e2fa-b2559d40ee2f"
      },
      "execution_count": null,
      "outputs": [
        {
          "output_type": "stream",
          "name": "stdout",
          "text": [
            "Average exam passing probability after 1000000 runs for 15 known topics: 0.725608\n"
          ]
        }
      ]
    },
    {
      "cell_type": "markdown",
      "source": [
        "# Classification (Part 2)"
      ],
      "metadata": {
        "id": "7OOg9i6svpa7"
      }
    },
    {
      "cell_type": "markdown",
      "source": [
        "**Task 2**"
      ],
      "metadata": {
        "id": "c-4fZlVYL6Tn"
      }
    },
    {
      "cell_type": "code",
      "source": [
        "import numpy as np\n",
        "import pandas as pd\n",
        "import re"
      ],
      "metadata": {
        "id": "Qm5j-GWzvwaA"
      },
      "execution_count": null,
      "outputs": []
    },
    {
      "cell_type": "code",
      "source": [
        "from google.colab import drive\n",
        "drive.mount('/content/drive')"
      ],
      "metadata": {
        "colab": {
          "base_uri": "https://localhost:8080/"
        },
        "id": "_U3OvN-XwlJQ",
        "outputId": "8a909960-8592-4242-bfcd-42612740ee62"
      },
      "execution_count": null,
      "outputs": [
        {
          "output_type": "stream",
          "name": "stdout",
          "text": [
            "Mounted at /content/drive\n"
          ]
        }
      ]
    },
    {
      "cell_type": "code",
      "source": [
        "data = pd.read_csv(\"/content/drive/MyDrive/T.CON/skydata.csv\")\n",
        "data[:5]"
      ],
      "metadata": {
        "colab": {
          "base_uri": "https://localhost:8080/",
          "height": 270
        },
        "id": "llAVWtg9wmVb",
        "outputId": "a0641948-5e71-4ac5-db52-c107239f44f2"
      },
      "execution_count": null,
      "outputs": [
        {
          "output_type": "execute_result",
          "data": {
            "text/plain": [
              "         dec         u  redshift         z         r          ra   run  \\\n",
              "0   2.803170  19.35065  0.142265  16.32664  17.04886  182.898466  1458   \n",
              "1  23.891666  17.57148  0.000032  15.88743  16.04065  270.240850  4832   \n",
              "2  14.323357  18.30611  0.073976  15.00599  15.73859  138.913885  5935   \n",
              "3   6.157200  19.52862  0.040765  16.13952  16.88640  159.998722  2986   \n",
              "4  -0.395033  18.91353  0.000084  17.14535  17.36865  181.624546  6793   \n",
              "\n",
              "             specobjid  field  plate  camcol         g                objid  \\\n",
              "0   583309923396381000    388    518       4  17.89648  1237651736831980000   \n",
              "1  2471445199432210000    126   2195       3  16.38217  1237666227497600000   \n",
              "2  2742700762298610000    151   2436       4  16.52253  1237670965385040000   \n",
              "3  1125959874568550000    276   1000       2  17.74360  1237658298460930000   \n",
              "4   363748710133295000    140    323       3  17.80134  1237674649929380000   \n",
              "\n",
              "    class  fiberid  rerun         i    mjd  \n",
              "0    STAR      341    301  16.63305  52282  \n",
              "1  GALAXY      345    301  15.92649  54234  \n",
              "2    STAR       31    301  15.32356  54054  \n",
              "3    STAR      218    301  16.48322  52643  \n",
              "4  GALAXY      302    301  17.21479  51615  "
            ],
            "text/html": [
              "\n",
              "  <div id=\"df-353c3468-b4c3-4614-987a-70eb8e88ec12\">\n",
              "    <div class=\"colab-df-container\">\n",
              "      <div>\n",
              "<style scoped>\n",
              "    .dataframe tbody tr th:only-of-type {\n",
              "        vertical-align: middle;\n",
              "    }\n",
              "\n",
              "    .dataframe tbody tr th {\n",
              "        vertical-align: top;\n",
              "    }\n",
              "\n",
              "    .dataframe thead th {\n",
              "        text-align: right;\n",
              "    }\n",
              "</style>\n",
              "<table border=\"1\" class=\"dataframe\">\n",
              "  <thead>\n",
              "    <tr style=\"text-align: right;\">\n",
              "      <th></th>\n",
              "      <th>dec</th>\n",
              "      <th>u</th>\n",
              "      <th>redshift</th>\n",
              "      <th>z</th>\n",
              "      <th>r</th>\n",
              "      <th>ra</th>\n",
              "      <th>run</th>\n",
              "      <th>specobjid</th>\n",
              "      <th>field</th>\n",
              "      <th>plate</th>\n",
              "      <th>camcol</th>\n",
              "      <th>g</th>\n",
              "      <th>objid</th>\n",
              "      <th>class</th>\n",
              "      <th>fiberid</th>\n",
              "      <th>rerun</th>\n",
              "      <th>i</th>\n",
              "      <th>mjd</th>\n",
              "    </tr>\n",
              "  </thead>\n",
              "  <tbody>\n",
              "    <tr>\n",
              "      <th>0</th>\n",
              "      <td>2.803170</td>\n",
              "      <td>19.35065</td>\n",
              "      <td>0.142265</td>\n",
              "      <td>16.32664</td>\n",
              "      <td>17.04886</td>\n",
              "      <td>182.898466</td>\n",
              "      <td>1458</td>\n",
              "      <td>583309923396381000</td>\n",
              "      <td>388</td>\n",
              "      <td>518</td>\n",
              "      <td>4</td>\n",
              "      <td>17.89648</td>\n",
              "      <td>1237651736831980000</td>\n",
              "      <td>STAR</td>\n",
              "      <td>341</td>\n",
              "      <td>301</td>\n",
              "      <td>16.63305</td>\n",
              "      <td>52282</td>\n",
              "    </tr>\n",
              "    <tr>\n",
              "      <th>1</th>\n",
              "      <td>23.891666</td>\n",
              "      <td>17.57148</td>\n",
              "      <td>0.000032</td>\n",
              "      <td>15.88743</td>\n",
              "      <td>16.04065</td>\n",
              "      <td>270.240850</td>\n",
              "      <td>4832</td>\n",
              "      <td>2471445199432210000</td>\n",
              "      <td>126</td>\n",
              "      <td>2195</td>\n",
              "      <td>3</td>\n",
              "      <td>16.38217</td>\n",
              "      <td>1237666227497600000</td>\n",
              "      <td>GALAXY</td>\n",
              "      <td>345</td>\n",
              "      <td>301</td>\n",
              "      <td>15.92649</td>\n",
              "      <td>54234</td>\n",
              "    </tr>\n",
              "    <tr>\n",
              "      <th>2</th>\n",
              "      <td>14.323357</td>\n",
              "      <td>18.30611</td>\n",
              "      <td>0.073976</td>\n",
              "      <td>15.00599</td>\n",
              "      <td>15.73859</td>\n",
              "      <td>138.913885</td>\n",
              "      <td>5935</td>\n",
              "      <td>2742700762298610000</td>\n",
              "      <td>151</td>\n",
              "      <td>2436</td>\n",
              "      <td>4</td>\n",
              "      <td>16.52253</td>\n",
              "      <td>1237670965385040000</td>\n",
              "      <td>STAR</td>\n",
              "      <td>31</td>\n",
              "      <td>301</td>\n",
              "      <td>15.32356</td>\n",
              "      <td>54054</td>\n",
              "    </tr>\n",
              "    <tr>\n",
              "      <th>3</th>\n",
              "      <td>6.157200</td>\n",
              "      <td>19.52862</td>\n",
              "      <td>0.040765</td>\n",
              "      <td>16.13952</td>\n",
              "      <td>16.88640</td>\n",
              "      <td>159.998722</td>\n",
              "      <td>2986</td>\n",
              "      <td>1125959874568550000</td>\n",
              "      <td>276</td>\n",
              "      <td>1000</td>\n",
              "      <td>2</td>\n",
              "      <td>17.74360</td>\n",
              "      <td>1237658298460930000</td>\n",
              "      <td>STAR</td>\n",
              "      <td>218</td>\n",
              "      <td>301</td>\n",
              "      <td>16.48322</td>\n",
              "      <td>52643</td>\n",
              "    </tr>\n",
              "    <tr>\n",
              "      <th>4</th>\n",
              "      <td>-0.395033</td>\n",
              "      <td>18.91353</td>\n",
              "      <td>0.000084</td>\n",
              "      <td>17.14535</td>\n",
              "      <td>17.36865</td>\n",
              "      <td>181.624546</td>\n",
              "      <td>6793</td>\n",
              "      <td>363748710133295000</td>\n",
              "      <td>140</td>\n",
              "      <td>323</td>\n",
              "      <td>3</td>\n",
              "      <td>17.80134</td>\n",
              "      <td>1237674649929380000</td>\n",
              "      <td>GALAXY</td>\n",
              "      <td>302</td>\n",
              "      <td>301</td>\n",
              "      <td>17.21479</td>\n",
              "      <td>51615</td>\n",
              "    </tr>\n",
              "  </tbody>\n",
              "</table>\n",
              "</div>\n",
              "      <button class=\"colab-df-convert\" onclick=\"convertToInteractive('df-353c3468-b4c3-4614-987a-70eb8e88ec12')\"\n",
              "              title=\"Convert this dataframe to an interactive table.\"\n",
              "              style=\"display:none;\">\n",
              "        \n",
              "  <svg xmlns=\"http://www.w3.org/2000/svg\" height=\"24px\"viewBox=\"0 0 24 24\"\n",
              "       width=\"24px\">\n",
              "    <path d=\"M0 0h24v24H0V0z\" fill=\"none\"/>\n",
              "    <path d=\"M18.56 5.44l.94 2.06.94-2.06 2.06-.94-2.06-.94-.94-2.06-.94 2.06-2.06.94zm-11 1L8.5 8.5l.94-2.06 2.06-.94-2.06-.94L8.5 2.5l-.94 2.06-2.06.94zm10 10l.94 2.06.94-2.06 2.06-.94-2.06-.94-.94-2.06-.94 2.06-2.06.94z\"/><path d=\"M17.41 7.96l-1.37-1.37c-.4-.4-.92-.59-1.43-.59-.52 0-1.04.2-1.43.59L10.3 9.45l-7.72 7.72c-.78.78-.78 2.05 0 2.83L4 21.41c.39.39.9.59 1.41.59.51 0 1.02-.2 1.41-.59l7.78-7.78 2.81-2.81c.8-.78.8-2.07 0-2.86zM5.41 20L4 18.59l7.72-7.72 1.47 1.35L5.41 20z\"/>\n",
              "  </svg>\n",
              "      </button>\n",
              "      \n",
              "  <style>\n",
              "    .colab-df-container {\n",
              "      display:flex;\n",
              "      flex-wrap:wrap;\n",
              "      gap: 12px;\n",
              "    }\n",
              "\n",
              "    .colab-df-convert {\n",
              "      background-color: #E8F0FE;\n",
              "      border: none;\n",
              "      border-radius: 50%;\n",
              "      cursor: pointer;\n",
              "      display: none;\n",
              "      fill: #1967D2;\n",
              "      height: 32px;\n",
              "      padding: 0 0 0 0;\n",
              "      width: 32px;\n",
              "    }\n",
              "\n",
              "    .colab-df-convert:hover {\n",
              "      background-color: #E2EBFA;\n",
              "      box-shadow: 0px 1px 2px rgba(60, 64, 67, 0.3), 0px 1px 3px 1px rgba(60, 64, 67, 0.15);\n",
              "      fill: #174EA6;\n",
              "    }\n",
              "\n",
              "    [theme=dark] .colab-df-convert {\n",
              "      background-color: #3B4455;\n",
              "      fill: #D2E3FC;\n",
              "    }\n",
              "\n",
              "    [theme=dark] .colab-df-convert:hover {\n",
              "      background-color: #434B5C;\n",
              "      box-shadow: 0px 1px 3px 1px rgba(0, 0, 0, 0.15);\n",
              "      filter: drop-shadow(0px 1px 2px rgba(0, 0, 0, 0.3));\n",
              "      fill: #FFFFFF;\n",
              "    }\n",
              "  </style>\n",
              "\n",
              "      <script>\n",
              "        const buttonEl =\n",
              "          document.querySelector('#df-353c3468-b4c3-4614-987a-70eb8e88ec12 button.colab-df-convert');\n",
              "        buttonEl.style.display =\n",
              "          google.colab.kernel.accessAllowed ? 'block' : 'none';\n",
              "\n",
              "        async function convertToInteractive(key) {\n",
              "          const element = document.querySelector('#df-353c3468-b4c3-4614-987a-70eb8e88ec12');\n",
              "          const dataTable =\n",
              "            await google.colab.kernel.invokeFunction('convertToInteractive',\n",
              "                                                     [key], {});\n",
              "          if (!dataTable) return;\n",
              "\n",
              "          const docLinkHtml = 'Like what you see? Visit the ' +\n",
              "            '<a target=\"_blank\" href=https://colab.research.google.com/notebooks/data_table.ipynb>data table notebook</a>'\n",
              "            + ' to learn more about interactive tables.';\n",
              "          element.innerHTML = '';\n",
              "          dataTable['output_type'] = 'display_data';\n",
              "          await google.colab.output.renderOutput(dataTable, element);\n",
              "          const docLink = document.createElement('div');\n",
              "          docLink.innerHTML = docLinkHtml;\n",
              "          element.appendChild(docLink);\n",
              "        }\n",
              "      </script>\n",
              "    </div>\n",
              "  </div>\n",
              "  "
            ]
          },
          "metadata": {},
          "execution_count": 5
        }
      ]
    },
    {
      "cell_type": "code",
      "source": [
        "data.shape"
      ],
      "metadata": {
        "colab": {
          "base_uri": "https://localhost:8080/"
        },
        "id": "6VOtDMFdzQFZ",
        "outputId": "b18fe665-2524-48b0-fc93-022a78e32c25"
      },
      "execution_count": null,
      "outputs": [
        {
          "output_type": "execute_result",
          "data": {
            "text/plain": [
              "(80000, 18)"
            ]
          },
          "metadata": {},
          "execution_count": 5
        }
      ]
    },
    {
      "cell_type": "markdown",
      "source": [
        "Separating dataset in 2 parts: GALAXY and STAR. This will allow us to study separately the components of each of them.\n"
      ],
      "metadata": {
        "id": "-nK6lHRF6Biv"
      }
    },
    {
      "cell_type": "code",
      "source": [
        "galaxy = data.loc[data['class'] == 'GALAXY']\n",
        "star = data.loc[data['class'] == 'STAR']"
      ],
      "metadata": {
        "id": "XUaSHTDdw2W8"
      },
      "execution_count": null,
      "outputs": []
    },
    {
      "cell_type": "markdown",
      "source": [
        "Let's check first if our dataset contains missing values (missing values could affect the final result of our research)"
      ],
      "metadata": {
        "id": "ArwHI6z6x_v2"
      }
    },
    {
      "cell_type": "code",
      "source": [
        "data.isnull().sum()"
      ],
      "metadata": {
        "colab": {
          "base_uri": "https://localhost:8080/"
        },
        "id": "BIFJb0DRxwEH",
        "outputId": "24a8efd0-ee1f-4d27-c7a0-5190bc09a94e"
      },
      "execution_count": null,
      "outputs": [
        {
          "output_type": "execute_result",
          "data": {
            "text/plain": [
              "dec          0\n",
              "u            0\n",
              "redshift     0\n",
              "z            0\n",
              "r            0\n",
              "ra           0\n",
              "run          0\n",
              "specobjid    0\n",
              "field        0\n",
              "plate        0\n",
              "camcol       0\n",
              "g            0\n",
              "objid        0\n",
              "class        0\n",
              "fiberid      0\n",
              "rerun        0\n",
              "i            0\n",
              "mjd          0\n",
              "dtype: int64"
            ]
          },
          "metadata": {},
          "execution_count": 7
        }
      ]
    },
    {
      "cell_type": "markdown",
      "source": [
        "Since we do not have any missing values let's also check data for duplicates."
      ],
      "metadata": {
        "id": "uYWec_awyVZn"
      }
    },
    {
      "cell_type": "code",
      "source": [
        "data.duplicated(subset = ['dec','u','redshift','z','r','ra','run','specobjid','field','plate','camcol','g','objid','class','fiberid','rerun','i','mjd'])"
      ],
      "metadata": {
        "colab": {
          "base_uri": "https://localhost:8080/"
        },
        "id": "PKulsktQx5iC",
        "outputId": "cbef7454-ba49-4715-d9f3-4945cfca1b4c"
      },
      "execution_count": null,
      "outputs": [
        {
          "output_type": "execute_result",
          "data": {
            "text/plain": [
              "0        False\n",
              "1        False\n",
              "2        False\n",
              "3        False\n",
              "4        False\n",
              "         ...  \n",
              "79995    False\n",
              "79996    False\n",
              "79997    False\n",
              "79998    False\n",
              "79999    False\n",
              "Length: 80000, dtype: bool"
            ]
          },
          "metadata": {},
          "execution_count": 8
        }
      ]
    },
    {
      "cell_type": "markdown",
      "source": [
        "Well our data is totally clear!\n",
        "Now we can move forward to research."
      ],
      "metadata": {
        "id": "3Aao9KbbzX50"
      }
    },
    {
      "cell_type": "markdown",
      "source": [
        "**General information about the dataset**"
      ],
      "metadata": {
        "id": "wPusk8L-7koX"
      }
    },
    {
      "cell_type": "code",
      "source": [
        "import matplotlib\n",
        "import matplotlib.pyplot as plt\n",
        "from sklearn import datasets\n",
        "import seaborn as sns\n",
        "from matplotlib.pyplot import figure"
      ],
      "metadata": {
        "id": "_37DGsm0zIch"
      },
      "execution_count": null,
      "outputs": []
    },
    {
      "cell_type": "markdown",
      "source": [
        "Let's see how many stars and galaxies are in our dataset."
      ],
      "metadata": {
        "id": "_lrZ-H7CIvCA"
      }
    },
    {
      "cell_type": "code",
      "source": [
        "sns.displot(data['class'], binwidth = 1)\n",
        "\n",
        "plt.show()"
      ],
      "metadata": {
        "colab": {
          "base_uri": "https://localhost:8080/",
          "height": 369
        },
        "id": "6v6ZKQwSzlan",
        "outputId": "3dada315-2184-4f35-8b55-cc6713a7f816"
      },
      "execution_count": null,
      "outputs": [
        {
          "output_type": "display_data",
          "data": {
            "text/plain": [
              "<Figure size 360x360 with 1 Axes>"
            ],
            "image/png": "[encoded data removed]"
          },
          "metadata": {
            "needs_background": "light"
          }
        }
      ]
    },
    {
      "cell_type": "markdown",
      "source": [
        "And exact number of them"
      ],
      "metadata": {
        "id": "FmAQPMarI3yG"
      }
    },
    {
      "cell_type": "code",
      "source": [
        "data['class'].value_counts()"
      ],
      "metadata": {
        "colab": {
          "base_uri": "https://localhost:8080/"
        },
        "id": "wBmhpJ-1UUs9",
        "outputId": "a82dae6f-8b1d-4b5e-c4ab-86e1f966f2d7"
      },
      "execution_count": null,
      "outputs": [
        {
          "output_type": "execute_result",
          "data": {
            "text/plain": [
              "STAR      46004\n",
              "GALAXY    33996\n",
              "Name: class, dtype: int64"
            ]
          },
          "metadata": {},
          "execution_count": 11
        }
      ]
    },
    {
      "cell_type": "markdown",
      "source": [
        "**Impactful values**"
      ],
      "metadata": {
        "id": "W2AzrmDo6fYw"
      }
    },
    {
      "cell_type": "markdown",
      "source": [
        "In this part we will check which of the values will be most impactful during the modeling \n",
        "\n",
        "\n"
      ],
      "metadata": {
        "id": "x23xfWWe7suw"
      }
    },
    {
      "cell_type": "code",
      "source": [
        "data.info()"
      ],
      "metadata": {
        "colab": {
          "base_uri": "https://localhost:8080/"
        },
        "id": "XfMhfd-N71Q9",
        "outputId": "37013649-61c0-48cd-faf1-e224bb83e755"
      },
      "execution_count": null,
      "outputs": [
        {
          "output_type": "stream",
          "name": "stdout",
          "text": [
            "<class 'pandas.core.frame.DataFrame'>\n",
            "RangeIndex: 80000 entries, 0 to 79999\n",
            "Data columns (total 18 columns):\n",
            " #   Column     Non-Null Count  Dtype  \n",
            "---  ------     --------------  -----  \n",
            " 0   dec        80000 non-null  float64\n",
            " 1   u          80000 non-null  float64\n",
            " 2   redshift   80000 non-null  float64\n",
            " 3   z          80000 non-null  float64\n",
            " 4   r          80000 non-null  float64\n",
            " 5   ra         80000 non-null  float64\n",
            " 6   run        80000 non-null  int64  \n",
            " 7   specobjid  80000 non-null  uint64 \n",
            " 8   field      80000 non-null  int64  \n",
            " 9   plate      80000 non-null  int64  \n",
            " 10  camcol     80000 non-null  int64  \n",
            " 11  g          80000 non-null  float64\n",
            " 12  objid      80000 non-null  int64  \n",
            " 13  class      80000 non-null  object \n",
            " 14  fiberid    80000 non-null  int64  \n",
            " 15  rerun      80000 non-null  int64  \n",
            " 16  i          80000 non-null  float64\n",
            " 17  mjd        80000 non-null  int64  \n",
            "dtypes: float64(8), int64(8), object(1), uint64(1)\n",
            "memory usage: 11.0+ MB\n"
          ]
        }
      ]
    },
    {
      "cell_type": "code",
      "source": [
        "data.describe()"
      ],
      "metadata": {
        "colab": {
          "base_uri": "https://localhost:8080/",
          "height": 364
        },
        "id": "ZX8MfIe08SB8",
        "outputId": "1fd94558-200f-4a6a-f0df-ec53f35bbf54"
      },
      "execution_count": null,
      "outputs": [
        {
          "output_type": "execute_result",
          "data": {
            "text/plain": [
              "                dec             u      redshift             z             r  \\\n",
              "count  80000.000000  80000.000000  80000.000000  80000.000000  80000.000000   \n",
              "mean      24.956199     18.599217      0.044789     16.249336     16.688952   \n",
              "std       20.684056      0.850213      0.053003      1.144420      1.013888   \n",
              "min      -19.495456     10.611810     -0.004136      8.947795      9.005167   \n",
              "25%        6.592120     18.151283     -0.000033     15.533245     16.112177   \n",
              "50%       23.710118     18.836250      0.033506     16.264470     16.754960   \n",
              "75%       40.306610     19.253073      0.078770     16.994713     17.392215   \n",
              "max       84.490494     19.599950      1.945427     29.383740     31.990100   \n",
              "\n",
              "                 ra           run     specobjid         field         plate  \\\n",
              "count  80000.000000  80000.000000  8.000000e+04  80000.000000  80000.000000   \n",
              "mean     177.743131   3959.174013  2.752467e+18    187.312775   2444.599575   \n",
              "std       77.896889   1673.864207  2.247970e+18    141.263033   1996.584854   \n",
              "min        0.013061    109.000000  2.994897e+17     11.000000    266.000000   \n",
              "25%      135.892460   2826.000000  1.334297e+18     85.000000   1185.000000   \n",
              "50%      180.537028   3900.000000  2.319509e+18    153.000000   2060.000000   \n",
              "75%      224.576979   5060.000000  3.221323e+18    249.000000   2861.000000   \n",
              "max      359.973933   8162.000000  1.314852e+19    982.000000  11678.000000   \n",
              "\n",
              "             camcol             g         objid       fiberid    rerun  \\\n",
              "count  80000.000000  80000.000000  8.000000e+04  80000.000000  80000.0   \n",
              "mean       3.275537     17.255286  1.237662e+18    336.434625    301.0   \n",
              "std        1.623022      0.906773  7.189191e+12    212.623680      0.0   \n",
              "min        1.000000      9.988000  1.237646e+18      1.000000    301.0   \n",
              "25%        2.000000     16.763295  1.237658e+18    158.000000    301.0   \n",
              "50%        3.000000     17.414850  1.237662e+18    324.000000    301.0   \n",
              "75%        5.000000     17.907175  1.237667e+18    496.000000    301.0   \n",
              "max        6.000000     19.996050  1.237681e+18   1000.000000    301.0   \n",
              "\n",
              "                  i           mjd  \n",
              "count  80000.000000  80000.000000  \n",
              "mean      16.417453  53832.966075  \n",
              "std        1.074750   1441.947194  \n",
              "min        8.848403  51608.000000  \n",
              "25%       15.781940  52731.000000  \n",
              "50%       16.453590  53712.000000  \n",
              "75%       17.129413  54567.000000  \n",
              "max       32.101780  58543.000000  "
            ],
            "text/html": [
              "\n",
              "  <div id=\"df-eca21235-36bb-43bf-8893-04381a5831b9\">\n",
              "    <div class=\"colab-df-container\">\n",
              "      <div>\n",
              "<style scoped>\n",
              "    .dataframe tbody tr th:only-of-type {\n",
              "        vertical-align: middle;\n",
              "    }\n",
              "\n",
              "    .dataframe tbody tr th {\n",
              "        vertical-align: top;\n",
              "    }\n",
              "\n",
              "    .dataframe thead th {\n",
              "        text-align: right;\n",
              "    }\n",
              "</style>\n",
              "<table border=\"1\" class=\"dataframe\">\n",
              "  <thead>\n",
              "    <tr style=\"text-align: right;\">\n",
              "      <th></th>\n",
              "      <th>dec</th>\n",
              "      <th>u</th>\n",
              "      <th>redshift</th>\n",
              "      <th>z</th>\n",
              "      <th>r</th>\n",
              "      <th>ra</th>\n",
              "      <th>run</th>\n",
              "      <th>specobjid</th>\n",
              "      <th>field</th>\n",
              "      <th>plate</th>\n",
              "      <th>camcol</th>\n",
              "      <th>g</th>\n",
              "      <th>objid</th>\n",
              "      <th>fiberid</th>\n",
              "      <th>rerun</th>\n",
              "      <th>i</th>\n",
              "      <th>mjd</th>\n",
              "    </tr>\n",
              "  </thead>\n",
              "  <tbody>\n",
              "    <tr>\n",
              "      <th>count</th>\n",
              "      <td>80000.000000</td>\n",
              "      <td>80000.000000</td>\n",
              "      <td>80000.000000</td>\n",
              "      <td>80000.000000</td>\n",
              "      <td>80000.000000</td>\n",
              "      <td>80000.000000</td>\n",
              "      <td>80000.000000</td>\n",
              "      <td>8.000000e+04</td>\n",
              "      <td>80000.000000</td>\n",
              "      <td>80000.000000</td>\n",
              "      <td>80000.000000</td>\n",
              "      <td>80000.000000</td>\n",
              "      <td>8.000000e+04</td>\n",
              "      <td>80000.000000</td>\n",
              "      <td>80000.0</td>\n",
              "      <td>80000.000000</td>\n",
              "      <td>80000.000000</td>\n",
              "    </tr>\n",
              "    <tr>\n",
              "      <th>mean</th>\n",
              "      <td>24.956199</td>\n",
              "      <td>18.599217</td>\n",
              "      <td>0.044789</td>\n",
              "      <td>16.249336</td>\n",
              "      <td>16.688952</td>\n",
              "      <td>177.743131</td>\n",
              "      <td>3959.174013</td>\n",
              "      <td>2.752467e+18</td>\n",
              "      <td>187.312775</td>\n",
              "      <td>2444.599575</td>\n",
              "      <td>3.275537</td>\n",
              "      <td>17.255286</td>\n",
              "      <td>1.237662e+18</td>\n",
              "      <td>336.434625</td>\n",
              "      <td>301.0</td>\n",
              "      <td>16.417453</td>\n",
              "      <td>53832.966075</td>\n",
              "    </tr>\n",
              "    <tr>\n",
              "      <th>std</th>\n",
              "      <td>20.684056</td>\n",
              "      <td>0.850213</td>\n",
              "      <td>0.053003</td>\n",
              "      <td>1.144420</td>\n",
              "      <td>1.013888</td>\n",
              "      <td>77.896889</td>\n",
              "      <td>1673.864207</td>\n",
              "      <td>2.247970e+18</td>\n",
              "      <td>141.263033</td>\n",
              "      <td>1996.584854</td>\n",
              "      <td>1.623022</td>\n",
              "      <td>0.906773</td>\n",
              "      <td>7.189191e+12</td>\n",
              "      <td>212.623680</td>\n",
              "      <td>0.0</td>\n",
              "      <td>1.074750</td>\n",
              "      <td>1441.947194</td>\n",
              "    </tr>\n",
              "    <tr>\n",
              "      <th>min</th>\n",
              "      <td>-19.495456</td>\n",
              "      <td>10.611810</td>\n",
              "      <td>-0.004136</td>\n",
              "      <td>8.947795</td>\n",
              "      <td>9.005167</td>\n",
              "      <td>0.013061</td>\n",
              "      <td>109.000000</td>\n",
              "      <td>2.994897e+17</td>\n",
              "      <td>11.000000</td>\n",
              "      <td>266.000000</td>\n",
              "      <td>1.000000</td>\n",
              "      <td>9.988000</td>\n",
              "      <td>1.237646e+18</td>\n",
              "      <td>1.000000</td>\n",
              "      <td>301.0</td>\n",
              "      <td>8.848403</td>\n",
              "      <td>51608.000000</td>\n",
              "    </tr>\n",
              "    <tr>\n",
              "      <th>25%</th>\n",
              "      <td>6.592120</td>\n",
              "      <td>18.151283</td>\n",
              "      <td>-0.000033</td>\n",
              "      <td>15.533245</td>\n",
              "      <td>16.112177</td>\n",
              "      <td>135.892460</td>\n",
              "      <td>2826.000000</td>\n",
              "      <td>1.334297e+18</td>\n",
              "      <td>85.000000</td>\n",
              "      <td>1185.000000</td>\n",
              "      <td>2.000000</td>\n",
              "      <td>16.763295</td>\n",
              "      <td>1.237658e+18</td>\n",
              "      <td>158.000000</td>\n",
              "      <td>301.0</td>\n",
              "      <td>15.781940</td>\n",
              "      <td>52731.000000</td>\n",
              "    </tr>\n",
              "    <tr>\n",
              "      <th>50%</th>\n",
              "      <td>23.710118</td>\n",
              "      <td>18.836250</td>\n",
              "      <td>0.033506</td>\n",
              "      <td>16.264470</td>\n",
              "      <td>16.754960</td>\n",
              "      <td>180.537028</td>\n",
              "      <td>3900.000000</td>\n",
              "      <td>2.319509e+18</td>\n",
              "      <td>153.000000</td>\n",
              "      <td>2060.000000</td>\n",
              "      <td>3.000000</td>\n",
              "      <td>17.414850</td>\n",
              "      <td>1.237662e+18</td>\n",
              "      <td>324.000000</td>\n",
              "      <td>301.0</td>\n",
              "      <td>16.453590</td>\n",
              "      <td>53712.000000</td>\n",
              "    </tr>\n",
              "    <tr>\n",
              "      <th>75%</th>\n",
              "      <td>40.306610</td>\n",
              "      <td>19.253073</td>\n",
              "      <td>0.078770</td>\n",
              "      <td>16.994713</td>\n",
              "      <td>17.392215</td>\n",
              "      <td>224.576979</td>\n",
              "      <td>5060.000000</td>\n",
              "      <td>3.221323e+18</td>\n",
              "      <td>249.000000</td>\n",
              "      <td>2861.000000</td>\n",
              "      <td>5.000000</td>\n",
              "      <td>17.907175</td>\n",
              "      <td>1.237667e+18</td>\n",
              "      <td>496.000000</td>\n",
              "      <td>301.0</td>\n",
              "      <td>17.129413</td>\n",
              "      <td>54567.000000</td>\n",
              "    </tr>\n",
              "    <tr>\n",
              "      <th>max</th>\n",
              "      <td>84.490494</td>\n",
              "      <td>19.599950</td>\n",
              "      <td>1.945427</td>\n",
              "      <td>29.383740</td>\n",
              "      <td>31.990100</td>\n",
              "      <td>359.973933</td>\n",
              "      <td>8162.000000</td>\n",
              "      <td>1.314852e+19</td>\n",
              "      <td>982.000000</td>\n",
              "      <td>11678.000000</td>\n",
              "      <td>6.000000</td>\n",
              "      <td>19.996050</td>\n",
              "      <td>1.237681e+18</td>\n",
              "      <td>1000.000000</td>\n",
              "      <td>301.0</td>\n",
              "      <td>32.101780</td>\n",
              "      <td>58543.000000</td>\n",
              "    </tr>\n",
              "  </tbody>\n",
              "</table>\n",
              "</div>\n",
              "      <button class=\"colab-df-convert\" onclick=\"convertToInteractive('df-eca21235-36bb-43bf-8893-04381a5831b9')\"\n",
              "              title=\"Convert this dataframe to an interactive table.\"\n",
              "              style=\"display:none;\">\n",
              "        \n",
              "  <svg xmlns=\"http://www.w3.org/2000/svg\" height=\"24px\"viewBox=\"0 0 24 24\"\n",
              "       width=\"24px\">\n",
              "    <path d=\"M0 0h24v24H0V0z\" fill=\"none\"/>\n",
              "    <path d=\"M18.56 5.44l.94 2.06.94-2.06 2.06-.94-2.06-.94-.94-2.06-.94 2.06-2.06.94zm-11 1L8.5 8.5l.94-2.06 2.06-.94-2.06-.94L8.5 2.5l-.94 2.06-2.06.94zm10 10l.94 2.06.94-2.06 2.06-.94-2.06-.94-.94-2.06-.94 2.06-2.06.94z\"/><path d=\"M17.41 7.96l-1.37-1.37c-.4-.4-.92-.59-1.43-.59-.52 0-1.04.2-1.43.59L10.3 9.45l-7.72 7.72c-.78.78-.78 2.05 0 2.83L4 21.41c.39.39.9.59 1.41.59.51 0 1.02-.2 1.41-.59l7.78-7.78 2.81-2.81c.8-.78.8-2.07 0-2.86zM5.41 20L4 18.59l7.72-7.72 1.47 1.35L5.41 20z\"/>\n",
              "  </svg>\n",
              "      </button>\n",
              "      \n",
              "  <style>\n",
              "    .colab-df-container {\n",
              "      display:flex;\n",
              "      flex-wrap:wrap;\n",
              "      gap: 12px;\n",
              "    }\n",
              "\n",
              "    .colab-df-convert {\n",
              "      background-color: #E8F0FE;\n",
              "      border: none;\n",
              "      border-radius: 50%;\n",
              "      cursor: pointer;\n",
              "      display: none;\n",
              "      fill: #1967D2;\n",
              "      height: 32px;\n",
              "      padding: 0 0 0 0;\n",
              "      width: 32px;\n",
              "    }\n",
              "\n",
              "    .colab-df-convert:hover {\n",
              "      background-color: #E2EBFA;\n",
              "      box-shadow: 0px 1px 2px rgba(60, 64, 67, 0.3), 0px 1px 3px 1px rgba(60, 64, 67, 0.15);\n",
              "      fill: #174EA6;\n",
              "    }\n",
              "\n",
              "    [theme=dark] .colab-df-convert {\n",
              "      background-color: #3B4455;\n",
              "      fill: #D2E3FC;\n",
              "    }\n",
              "\n",
              "    [theme=dark] .colab-df-convert:hover {\n",
              "      background-color: #434B5C;\n",
              "      box-shadow: 0px 1px 3px 1px rgba(0, 0, 0, 0.15);\n",
              "      filter: drop-shadow(0px 1px 2px rgba(0, 0, 0, 0.3));\n",
              "      fill: #FFFFFF;\n",
              "    }\n",
              "  </style>\n",
              "\n",
              "      <script>\n",
              "        const buttonEl =\n",
              "          document.querySelector('#df-eca21235-36bb-43bf-8893-04381a5831b9 button.colab-df-convert');\n",
              "        buttonEl.style.display =\n",
              "          google.colab.kernel.accessAllowed ? 'block' : 'none';\n",
              "\n",
              "        async function convertToInteractive(key) {\n",
              "          const element = document.querySelector('#df-eca21235-36bb-43bf-8893-04381a5831b9');\n",
              "          const dataTable =\n",
              "            await google.colab.kernel.invokeFunction('convertToInteractive',\n",
              "                                                     [key], {});\n",
              "          if (!dataTable) return;\n",
              "\n",
              "          const docLinkHtml = 'Like what you see? Visit the ' +\n",
              "            '<a target=\"_blank\" href=https://colab.research.google.com/notebooks/data_table.ipynb>data table notebook</a>'\n",
              "            + ' to learn more about interactive tables.';\n",
              "          element.innerHTML = '';\n",
              "          dataTable['output_type'] = 'display_data';\n",
              "          await google.colab.output.renderOutput(dataTable, element);\n",
              "          const docLink = document.createElement('div');\n",
              "          docLink.innerHTML = docLinkHtml;\n",
              "          element.appendChild(docLink);\n",
              "        }\n",
              "      </script>\n",
              "    </div>\n",
              "  </div>\n",
              "  "
            ]
          },
          "metadata": {},
          "execution_count": 7
        }
      ]
    },
    {
      "cell_type": "markdown",
      "source": [
        "Let's take a look at most popular values in the fiberid column"
      ],
      "metadata": {
        "id": "JZxvN8D6JYzi"
      }
    },
    {
      "cell_type": "code",
      "source": [
        "y = data['fiberid'].value_counts().index.tolist()[:5]\n",
        "x = data['fiberid'].value_counts()[:5]"
      ],
      "metadata": {
        "id": "YYtHi38Q_4FA"
      },
      "execution_count": null,
      "outputs": []
    },
    {
      "cell_type": "code",
      "source": [
        "figure(figsize=(10, 8), dpi=80)\n",
        "sns.barplot(x, y)\n",
        "\n",
        "plt.show()"
      ],
      "metadata": {
        "colab": {
          "base_uri": "https://localhost:8080/",
          "height": 576
        },
        "id": "bvzlQ0pBABIL",
        "outputId": "906db773-fbd0-4e60-de60-e24b336fe5ef"
      },
      "execution_count": null,
      "outputs": [
        {
          "output_type": "stream",
          "name": "stderr",
          "text": [
            "/usr/local/lib/python3.7/dist-packages/seaborn/_decorators.py:43: FutureWarning: Pass the following variables as keyword args: x, y. From version 0.12, the only valid positional argument will be `data`, and passing other arguments without an explicit keyword will result in an error or misinterpretation.\n",
            "  FutureWarning\n"
          ]
        },
        {
          "output_type": "display_data",
          "data": {
            "text/plain": [
              "<Figure size 800x640 with 1 Axes>"
            ],
            "image/png": "[encoded data removed]"
          },
          "metadata": {
            "needs_background": "light"
          }
        }
      ]
    },
    {
      "cell_type": "markdown",
      "source": [
        "Now we have an overview of the data, and we can start exploring it.\n",
        "We will do a simple comparison for STAR and GALAXY datasets which were created previously. We will take some of the columns and count the average value for each dataset and then compare them. It will show us how the average values are different  between STAR and GALAXY."
      ],
      "metadata": {
        "id": "WnJ57ejk8pxf"
      }
    },
    {
      "cell_type": "markdown",
      "source": [
        "Average objid for galaxy and star dataframes "
      ],
      "metadata": {
        "id": "OvlvotsKaKLK"
      }
    },
    {
      "cell_type": "code",
      "source": [
        "average_objid_galaxy = sum(galaxy['objid'])/len(galaxy['objid']) \n",
        "average_objid_galaxy"
      ],
      "metadata": {
        "colab": {
          "base_uri": "https://localhost:8080/"
        },
        "id": "AhoMFr40Tkbr",
        "outputId": "69f6586a-a05d-4911-bda4-655b7581f4d1"
      },
      "execution_count": null,
      "outputs": [
        {
          "output_type": "execute_result",
          "data": {
            "text/plain": [
              "1.237663384987423e+18"
            ]
          },
          "metadata": {},
          "execution_count": 12
        }
      ]
    },
    {
      "cell_type": "code",
      "source": [
        "average_objid_star = sum(star['objid'])/len(star['objid']) \n",
        "average_objid_star"
      ],
      "metadata": {
        "colab": {
          "base_uri": "https://localhost:8080/"
        },
        "id": "KM__cEOiVPnQ",
        "outputId": "5ac5e6e5-669b-4318-b16d-9d01b20402bb"
      },
      "execution_count": null,
      "outputs": [
        {
          "output_type": "execute_result",
          "data": {
            "text/plain": [
              "1.2376618093036582e+18"
            ]
          },
          "metadata": {},
          "execution_count": 13
        }
      ]
    },
    {
      "cell_type": "markdown",
      "source": [
        "Average ra for galaxy and star dataframes"
      ],
      "metadata": {
        "id": "cAotYLMNaHVy"
      }
    },
    {
      "cell_type": "code",
      "source": [
        "average_ra_galaxy = sum(galaxy['ra'])/len(galaxy['ra'])\n",
        "average_ra_galaxy"
      ],
      "metadata": {
        "colab": {
          "base_uri": "https://localhost:8080/"
        },
        "id": "-gX2p4IcWQ_a",
        "outputId": "71edbdfe-2249-4b49-fe07-dcfdffb9f246"
      },
      "execution_count": null,
      "outputs": [
        {
          "output_type": "execute_result",
          "data": {
            "text/plain": [
              "171.85392179049154"
            ]
          },
          "metadata": {},
          "execution_count": 14
        }
      ]
    },
    {
      "cell_type": "code",
      "source": [
        "average_ra_star = sum(star['ra'])/len(star['ra']) \n",
        "average_ra_star"
      ],
      "metadata": {
        "colab": {
          "base_uri": "https://localhost:8080/"
        },
        "id": "abIPf5mwWomE",
        "outputId": "4cdbc14e-6426-433d-ba5d-b1707c6bc37a"
      },
      "execution_count": null,
      "outputs": [
        {
          "output_type": "execute_result",
          "data": {
            "text/plain": [
              "182.0951335303255"
            ]
          },
          "metadata": {},
          "execution_count": 15
        }
      ]
    },
    {
      "cell_type": "markdown",
      "source": [
        "Average dec for galaxy and star dataframes"
      ],
      "metadata": {
        "id": "c1HbE87jZ9_s"
      }
    },
    {
      "cell_type": "code",
      "source": [
        "average_dec_galaxy = sum(galaxy['dec'])/len(galaxy['dec']) \n",
        "average_dec_galaxy"
      ],
      "metadata": {
        "colab": {
          "base_uri": "https://localhost:8080/"
        },
        "id": "kc0BBpdUWx3W",
        "outputId": "fa0a33f9-54c5-4f39-822f-b761465c8128"
      },
      "execution_count": null,
      "outputs": [
        {
          "output_type": "execute_result",
          "data": {
            "text/plain": [
              "25.14225488980057"
            ]
          },
          "metadata": {},
          "execution_count": 16
        }
      ]
    },
    {
      "cell_type": "code",
      "source": [
        "average_dec_star = sum(star['dec'])/len(star['dec']) \n",
        "average_dec_star"
      ],
      "metadata": {
        "colab": {
          "base_uri": "https://localhost:8080/"
        },
        "id": "vVdx-QhZW17g",
        "outputId": "dabd4485-d91c-4291-8d56-37bfcf60df08"
      },
      "execution_count": null,
      "outputs": [
        {
          "output_type": "execute_result",
          "data": {
            "text/plain": [
              "24.818707607649827"
            ]
          },
          "metadata": {},
          "execution_count": 17
        }
      ]
    },
    {
      "cell_type": "markdown",
      "source": [
        "Average fiberid for galaxy and star dataframes"
      ],
      "metadata": {
        "id": "-I_ryzXk_kfF"
      }
    },
    {
      "cell_type": "code",
      "source": [
        "average_dec_galaxy = sum(galaxy['fiberid'])/len(galaxy['fiberid']) \n",
        "average_dec_galaxy"
      ],
      "metadata": {
        "colab": {
          "base_uri": "https://localhost:8080/"
        },
        "id": "-CRC5YXx_g3T",
        "outputId": "eea31c82-9b3f-4a14-ab3a-79777e326820"
      },
      "execution_count": null,
      "outputs": [
        {
          "output_type": "execute_result",
          "data": {
            "text/plain": [
              "359.27053182727377"
            ]
          },
          "metadata": {},
          "execution_count": 23
        }
      ]
    },
    {
      "cell_type": "code",
      "source": [
        "average_dec_star = sum(star['fiberid'])/len(star['fiberid']) \n",
        "average_dec_star"
      ],
      "metadata": {
        "colab": {
          "base_uri": "https://localhost:8080/"
        },
        "id": "xmElJbln_jAG",
        "outputId": "bc43b2b3-32c2-4e5d-8d0d-b113af10d2db"
      },
      "execution_count": null,
      "outputs": [
        {
          "output_type": "execute_result",
          "data": {
            "text/plain": [
              "319.5593644030954"
            ]
          },
          "metadata": {},
          "execution_count": 24
        }
      ]
    },
    {
      "cell_type": "markdown",
      "source": [
        "We can see that the difference in **objid** and **dec** columns is not that significant, which means it won't affect the model's decision so much.\n",
        "Meanwhile, the difference in **fiberid** and **ra** columns is more noticable, then the model should be more dependant on these values  "
      ],
      "metadata": {
        "id": "znkDQ5krJitN"
      }
    },
    {
      "cell_type": "markdown",
      "source": [
        "**Preparing data for modeling**"
      ],
      "metadata": {
        "id": "4YCvq96a6wnS"
      }
    },
    {
      "cell_type": "markdown",
      "source": [
        "Creating a copy of dataset"
      ],
      "metadata": {
        "id": "nRpKgbTqLDb2"
      }
    },
    {
      "cell_type": "code",
      "source": [
        "X_train = data.copy()"
      ],
      "metadata": {
        "id": "D7PqwL-g-3U9"
      },
      "execution_count": null,
      "outputs": []
    },
    {
      "cell_type": "code",
      "source": [
        "X_train"
      ],
      "metadata": {
        "colab": {
          "base_uri": "https://localhost:8080/",
          "height": 488
        },
        "id": "o_IDgdXj-9-f",
        "outputId": "f9c0767e-d047-4c3a-b7d8-f6aa7df2004e"
      },
      "execution_count": null,
      "outputs": [
        {
          "output_type": "execute_result",
          "data": {
            "text/plain": [
              "             dec         u  redshift         z         r          ra   run  \\\n",
              "0       2.803170  19.35065  0.142265  16.32664  17.04886  182.898466  1458   \n",
              "1      23.891666  17.57148  0.000032  15.88743  16.04065  270.240850  4832   \n",
              "2      14.323357  18.30611  0.073976  15.00599  15.73859  138.913885  5935   \n",
              "3       6.157200  19.52862  0.040765  16.13952  16.88640  159.998722  2986   \n",
              "4      -0.395033  18.91353  0.000084  17.14535  17.36865  181.624546  6793   \n",
              "...          ...       ...       ...       ...       ...         ...   ...   \n",
              "79995  58.093491  19.36814  0.102927  16.57812  17.29029  179.797354  2826   \n",
              "79996   2.612478  18.71973  0.000426  17.33746  17.49476  151.950921  1462   \n",
              "79997  29.385913  18.62474  0.057637  15.65200  16.30223  116.238594  2822   \n",
              "79998  66.773361  18.04600  0.000060  15.79832  16.14084  117.910037  5060   \n",
              "79999  18.620771  18.67949  0.000772  17.31960  17.42544  159.823621  5312   \n",
              "\n",
              "                 specobjid  field  plate  camcol         g  \\\n",
              "0       583309923396381000    388    518       4  17.89648   \n",
              "1      2471445199432210000    126   2195       3  16.38217   \n",
              "2      2742700762298610000    151   2436       4  16.52253   \n",
              "3      1125959874568550000    276   1000       2  17.74360   \n",
              "4       363748710133295000    140    323       3  17.80134   \n",
              "...                    ...    ...    ...     ...       ...   \n",
              "79995  1477349224591940000    276   1312       5  18.03106   \n",
              "79996  5334601264587360000    178   4738       5  17.78212   \n",
              "79997  1000975639395720000     56    889       3  17.06923   \n",
              "79998  3314804157889670000    167   2944       5  16.69588   \n",
              "79999  6627192913079330000    183   5886       4  17.73353   \n",
              "\n",
              "                     objid   class  fiberid  rerun         i    mjd  \n",
              "0      1237651736831980000    STAR      341    301  16.63305  52282  \n",
              "1      1237666227497600000  GALAXY      345    301  15.92649  54234  \n",
              "2      1237670965385040000    STAR       31    301  15.32356  54054  \n",
              "3      1237658298460930000    STAR      218    301  16.48322  52643  \n",
              "4      1237674649929380000  GALAXY      302    301  17.21479  51615  \n",
              "...                    ...     ...      ...    ...       ...    ...  \n",
              "79995  1237657612876780000    STAR      613    301  16.86924  52781  \n",
              "79996  1237651754534960000  GALAXY      318    301  17.36612  55650  \n",
              "79997  1237657594608750000    STAR      184    301  15.92962  52663  \n",
              "79998  1237667207826570000  GALAXY      563    301  15.91642  54523  \n",
              "79999  1237668289622510000  GALAXY      531    301  17.30182  56034  \n",
              "\n",
              "[80000 rows x 18 columns]"
            ],
            "text/html": [
              "\n",
              "  <div id=\"df-ee31710b-1a81-4603-b332-7ccbda38d8dd\">\n",
              "    <div class=\"colab-df-container\">\n",
              "      <div>\n",
              "<style scoped>\n",
              "    .dataframe tbody tr th:only-of-type {\n",
              "        vertical-align: middle;\n",
              "    }\n",
              "\n",
              "    .dataframe tbody tr th {\n",
              "        vertical-align: top;\n",
              "    }\n",
              "\n",
              "    .dataframe thead th {\n",
              "        text-align: right;\n",
              "    }\n",
              "</style>\n",
              "<table border=\"1\" class=\"dataframe\">\n",
              "  <thead>\n",
              "    <tr style=\"text-align: right;\">\n",
              "      <th></th>\n",
              "      <th>dec</th>\n",
              "      <th>u</th>\n",
              "      <th>redshift</th>\n",
              "      <th>z</th>\n",
              "      <th>r</th>\n",
              "      <th>ra</th>\n",
              "      <th>run</th>\n",
              "      <th>specobjid</th>\n",
              "      <th>field</th>\n",
              "      <th>plate</th>\n",
              "      <th>camcol</th>\n",
              "      <th>g</th>\n",
              "      <th>objid</th>\n",
              "      <th>class</th>\n",
              "      <th>fiberid</th>\n",
              "      <th>rerun</th>\n",
              "      <th>i</th>\n",
              "      <th>mjd</th>\n",
              "    </tr>\n",
              "  </thead>\n",
              "  <tbody>\n",
              "    <tr>\n",
              "      <th>0</th>\n",
              "      <td>2.803170</td>\n",
              "      <td>19.35065</td>\n",
              "      <td>0.142265</td>\n",
              "      <td>16.32664</td>\n",
              "      <td>17.04886</td>\n",
              "      <td>182.898466</td>\n",
              "      <td>1458</td>\n",
              "      <td>583309923396381000</td>\n",
              "      <td>388</td>\n",
              "      <td>518</td>\n",
              "      <td>4</td>\n",
              "      <td>17.89648</td>\n",
              "      <td>1237651736831980000</td>\n",
              "      <td>STAR</td>\n",
              "      <td>341</td>\n",
              "      <td>301</td>\n",
              "      <td>16.63305</td>\n",
              "      <td>52282</td>\n",
              "    </tr>\n",
              "    <tr>\n",
              "      <th>1</th>\n",
              "      <td>23.891666</td>\n",
              "      <td>17.57148</td>\n",
              "      <td>0.000032</td>\n",
              "      <td>15.88743</td>\n",
              "      <td>16.04065</td>\n",
              "      <td>270.240850</td>\n",
              "      <td>4832</td>\n",
              "      <td>2471445199432210000</td>\n",
              "      <td>126</td>\n",
              "      <td>2195</td>\n",
              "      <td>3</td>\n",
              "      <td>16.38217</td>\n",
              "      <td>1237666227497600000</td>\n",
              "      <td>GALAXY</td>\n",
              "      <td>345</td>\n",
              "      <td>301</td>\n",
              "      <td>15.92649</td>\n",
              "      <td>54234</td>\n",
              "    </tr>\n",
              "    <tr>\n",
              "      <th>2</th>\n",
              "      <td>14.323357</td>\n",
              "      <td>18.30611</td>\n",
              "      <td>0.073976</td>\n",
              "      <td>15.00599</td>\n",
              "      <td>15.73859</td>\n",
              "      <td>138.913885</td>\n",
              "      <td>5935</td>\n",
              "      <td>2742700762298610000</td>\n",
              "      <td>151</td>\n",
              "      <td>2436</td>\n",
              "      <td>4</td>\n",
              "      <td>16.52253</td>\n",
              "      <td>1237670965385040000</td>\n",
              "      <td>STAR</td>\n",
              "      <td>31</td>\n",
              "      <td>301</td>\n",
              "      <td>15.32356</td>\n",
              "      <td>54054</td>\n",
              "    </tr>\n",
              "    <tr>\n",
              "      <th>3</th>\n",
              "      <td>6.157200</td>\n",
              "      <td>19.52862</td>\n",
              "      <td>0.040765</td>\n",
              "      <td>16.13952</td>\n",
              "      <td>16.88640</td>\n",
              "      <td>159.998722</td>\n",
              "      <td>2986</td>\n",
              "      <td>1125959874568550000</td>\n",
              "      <td>276</td>\n",
              "      <td>1000</td>\n",
              "      <td>2</td>\n",
              "      <td>17.74360</td>\n",
              "      <td>1237658298460930000</td>\n",
              "      <td>STAR</td>\n",
              "      <td>218</td>\n",
              "      <td>301</td>\n",
              "      <td>16.48322</td>\n",
              "      <td>52643</td>\n",
              "    </tr>\n",
              "    <tr>\n",
              "      <th>4</th>\n",
              "      <td>-0.395033</td>\n",
              "      <td>18.91353</td>\n",
              "      <td>0.000084</td>\n",
              "      <td>17.14535</td>\n",
              "      <td>17.36865</td>\n",
              "      <td>181.624546</td>\n",
              "      <td>6793</td>\n",
              "      <td>363748710133295000</td>\n",
              "      <td>140</td>\n",
              "      <td>323</td>\n",
              "      <td>3</td>\n",
              "      <td>17.80134</td>\n",
              "      <td>1237674649929380000</td>\n",
              "      <td>GALAXY</td>\n",
              "      <td>302</td>\n",
              "      <td>301</td>\n",
              "      <td>17.21479</td>\n",
              "      <td>51615</td>\n",
              "    </tr>\n",
              "    <tr>\n",
              "      <th>...</th>\n",
              "      <td>...</td>\n",
              "      <td>...</td>\n",
              "      <td>...</td>\n",
              "      <td>...</td>\n",
              "      <td>...</td>\n",
              "      <td>...</td>\n",
              "      <td>...</td>\n",
              "      <td>...</td>\n",
              "      <td>...</td>\n",
              "      <td>...</td>\n",
              "      <td>...</td>\n",
              "      <td>...</td>\n",
              "      <td>...</td>\n",
              "      <td>...</td>\n",
              "      <td>...</td>\n",
              "      <td>...</td>\n",
              "      <td>...</td>\n",
              "      <td>...</td>\n",
              "    </tr>\n",
              "    <tr>\n",
              "      <th>79995</th>\n",
              "      <td>58.093491</td>\n",
              "      <td>19.36814</td>\n",
              "      <td>0.102927</td>\n",
              "      <td>16.57812</td>\n",
              "      <td>17.29029</td>\n",
              "      <td>179.797354</td>\n",
              "      <td>2826</td>\n",
              "      <td>1477349224591940000</td>\n",
              "      <td>276</td>\n",
              "      <td>1312</td>\n",
              "      <td>5</td>\n",
              "      <td>18.03106</td>\n",
              "      <td>1237657612876780000</td>\n",
              "      <td>STAR</td>\n",
              "      <td>613</td>\n",
              "      <td>301</td>\n",
              "      <td>16.86924</td>\n",
              "      <td>52781</td>\n",
              "    </tr>\n",
              "    <tr>\n",
              "      <th>79996</th>\n",
              "      <td>2.612478</td>\n",
              "      <td>18.71973</td>\n",
              "      <td>0.000426</td>\n",
              "      <td>17.33746</td>\n",
              "      <td>17.49476</td>\n",
              "      <td>151.950921</td>\n",
              "      <td>1462</td>\n",
              "      <td>5334601264587360000</td>\n",
              "      <td>178</td>\n",
              "      <td>4738</td>\n",
              "      <td>5</td>\n",
              "      <td>17.78212</td>\n",
              "      <td>1237651754534960000</td>\n",
              "      <td>GALAXY</td>\n",
              "      <td>318</td>\n",
              "      <td>301</td>\n",
              "      <td>17.36612</td>\n",
              "      <td>55650</td>\n",
              "    </tr>\n",
              "    <tr>\n",
              "      <th>79997</th>\n",
              "      <td>29.385913</td>\n",
              "      <td>18.62474</td>\n",
              "      <td>0.057637</td>\n",
              "      <td>15.65200</td>\n",
              "      <td>16.30223</td>\n",
              "      <td>116.238594</td>\n",
              "      <td>2822</td>\n",
              "      <td>1000975639395720000</td>\n",
              "      <td>56</td>\n",
              "      <td>889</td>\n",
              "      <td>3</td>\n",
              "      <td>17.06923</td>\n",
              "      <td>1237657594608750000</td>\n",
              "      <td>STAR</td>\n",
              "      <td>184</td>\n",
              "      <td>301</td>\n",
              "      <td>15.92962</td>\n",
              "      <td>52663</td>\n",
              "    </tr>\n",
              "    <tr>\n",
              "      <th>79998</th>\n",
              "      <td>66.773361</td>\n",
              "      <td>18.04600</td>\n",
              "      <td>0.000060</td>\n",
              "      <td>15.79832</td>\n",
              "      <td>16.14084</td>\n",
              "      <td>117.910037</td>\n",
              "      <td>5060</td>\n",
              "      <td>3314804157889670000</td>\n",
              "      <td>167</td>\n",
              "      <td>2944</td>\n",
              "      <td>5</td>\n",
              "      <td>16.69588</td>\n",
              "      <td>1237667207826570000</td>\n",
              "      <td>GALAXY</td>\n",
              "      <td>563</td>\n",
              "      <td>301</td>\n",
              "      <td>15.91642</td>\n",
              "      <td>54523</td>\n",
              "    </tr>\n",
              "    <tr>\n",
              "      <th>79999</th>\n",
              "      <td>18.620771</td>\n",
              "      <td>18.67949</td>\n",
              "      <td>0.000772</td>\n",
              "      <td>17.31960</td>\n",
              "      <td>17.42544</td>\n",
              "      <td>159.823621</td>\n",
              "      <td>5312</td>\n",
              "      <td>6627192913079330000</td>\n",
              "      <td>183</td>\n",
              "      <td>5886</td>\n",
              "      <td>4</td>\n",
              "      <td>17.73353</td>\n",
              "      <td>1237668289622510000</td>\n",
              "      <td>GALAXY</td>\n",
              "      <td>531</td>\n",
              "      <td>301</td>\n",
              "      <td>17.30182</td>\n",
              "      <td>56034</td>\n",
              "    </tr>\n",
              "  </tbody>\n",
              "</table>\n",
              "<p>80000 rows × 18 columns</p>\n",
              "</div>\n",
              "      <button class=\"colab-df-convert\" onclick=\"convertToInteractive('df-ee31710b-1a81-4603-b332-7ccbda38d8dd')\"\n",
              "              title=\"Convert this dataframe to an interactive table.\"\n",
              "              style=\"display:none;\">\n",
              "        \n",
              "  <svg xmlns=\"http://www.w3.org/2000/svg\" height=\"24px\"viewBox=\"0 0 24 24\"\n",
              "       width=\"24px\">\n",
              "    <path d=\"M0 0h24v24H0V0z\" fill=\"none\"/>\n",
              "    <path d=\"M18.56 5.44l.94 2.06.94-2.06 2.06-.94-2.06-.94-.94-2.06-.94 2.06-2.06.94zm-11 1L8.5 8.5l.94-2.06 2.06-.94-2.06-.94L8.5 2.5l-.94 2.06-2.06.94zm10 10l.94 2.06.94-2.06 2.06-.94-2.06-.94-.94-2.06-.94 2.06-2.06.94z\"/><path d=\"M17.41 7.96l-1.37-1.37c-.4-.4-.92-.59-1.43-.59-.52 0-1.04.2-1.43.59L10.3 9.45l-7.72 7.72c-.78.78-.78 2.05 0 2.83L4 21.41c.39.39.9.59 1.41.59.51 0 1.02-.2 1.41-.59l7.78-7.78 2.81-2.81c.8-.78.8-2.07 0-2.86zM5.41 20L4 18.59l7.72-7.72 1.47 1.35L5.41 20z\"/>\n",
              "  </svg>\n",
              "      </button>\n",
              "      \n",
              "  <style>\n",
              "    .colab-df-container {\n",
              "      display:flex;\n",
              "      flex-wrap:wrap;\n",
              "      gap: 12px;\n",
              "    }\n",
              "\n",
              "    .colab-df-convert {\n",
              "      background-color: #E8F0FE;\n",
              "      border: none;\n",
              "      border-radius: 50%;\n",
              "      cursor: pointer;\n",
              "      display: none;\n",
              "      fill: #1967D2;\n",
              "      height: 32px;\n",
              "      padding: 0 0 0 0;\n",
              "      width: 32px;\n",
              "    }\n",
              "\n",
              "    .colab-df-convert:hover {\n",
              "      background-color: #E2EBFA;\n",
              "      box-shadow: 0px 1px 2px rgba(60, 64, 67, 0.3), 0px 1px 3px 1px rgba(60, 64, 67, 0.15);\n",
              "      fill: #174EA6;\n",
              "    }\n",
              "\n",
              "    [theme=dark] .colab-df-convert {\n",
              "      background-color: #3B4455;\n",
              "      fill: #D2E3FC;\n",
              "    }\n",
              "\n",
              "    [theme=dark] .colab-df-convert:hover {\n",
              "      background-color: #434B5C;\n",
              "      box-shadow: 0px 1px 3px 1px rgba(0, 0, 0, 0.15);\n",
              "      filter: drop-shadow(0px 1px 2px rgba(0, 0, 0, 0.3));\n",
              "      fill: #FFFFFF;\n",
              "    }\n",
              "  </style>\n",
              "\n",
              "      <script>\n",
              "        const buttonEl =\n",
              "          document.querySelector('#df-ee31710b-1a81-4603-b332-7ccbda38d8dd button.colab-df-convert');\n",
              "        buttonEl.style.display =\n",
              "          google.colab.kernel.accessAllowed ? 'block' : 'none';\n",
              "\n",
              "        async function convertToInteractive(key) {\n",
              "          const element = document.querySelector('#df-ee31710b-1a81-4603-b332-7ccbda38d8dd');\n",
              "          const dataTable =\n",
              "            await google.colab.kernel.invokeFunction('convertToInteractive',\n",
              "                                                     [key], {});\n",
              "          if (!dataTable) return;\n",
              "\n",
              "          const docLinkHtml = 'Like what you see? Visit the ' +\n",
              "            '<a target=\"_blank\" href=https://colab.research.google.com/notebooks/data_table.ipynb>data table notebook</a>'\n",
              "            + ' to learn more about interactive tables.';\n",
              "          element.innerHTML = '';\n",
              "          dataTable['output_type'] = 'display_data';\n",
              "          await google.colab.output.renderOutput(dataTable, element);\n",
              "          const docLink = document.createElement('div');\n",
              "          docLink.innerHTML = docLinkHtml;\n",
              "          element.appendChild(docLink);\n",
              "        }\n",
              "      </script>\n",
              "    </div>\n",
              "  </div>\n",
              "  "
            ]
          },
          "metadata": {},
          "execution_count": 20
        }
      ]
    },
    {
      "cell_type": "markdown",
      "source": [
        "Let's transform values GALAXY and STAR to digits format, so we can use this data in further processing (STAR->1,GALAXY->0)"
      ],
      "metadata": {
        "id": "ODm-Va2NCR82"
      }
    },
    {
      "cell_type": "code",
      "source": [
        "X_train = X_train.replace({'class':{'STAR':1, 'GALAXY':0}}) \n",
        "X_train"
      ],
      "metadata": {
        "colab": {
          "base_uri": "https://localhost:8080/",
          "height": 488
        },
        "id": "2Pmp-a6f_Vcj",
        "outputId": "addee3ae-4c58-48a5-b6ce-0ae521544088"
      },
      "execution_count": null,
      "outputs": [
        {
          "output_type": "execute_result",
          "data": {
            "text/plain": [
              "             dec         u  redshift         z         r          ra   run  \\\n",
              "0       2.803170  19.35065  0.142265  16.32664  17.04886  182.898466  1458   \n",
              "1      23.891666  17.57148  0.000032  15.88743  16.04065  270.240850  4832   \n",
              "2      14.323357  18.30611  0.073976  15.00599  15.73859  138.913885  5935   \n",
              "3       6.157200  19.52862  0.040765  16.13952  16.88640  159.998722  2986   \n",
              "4      -0.395033  18.91353  0.000084  17.14535  17.36865  181.624546  6793   \n",
              "...          ...       ...       ...       ...       ...         ...   ...   \n",
              "79995  58.093491  19.36814  0.102927  16.57812  17.29029  179.797354  2826   \n",
              "79996   2.612478  18.71973  0.000426  17.33746  17.49476  151.950921  1462   \n",
              "79997  29.385913  18.62474  0.057637  15.65200  16.30223  116.238594  2822   \n",
              "79998  66.773361  18.04600  0.000060  15.79832  16.14084  117.910037  5060   \n",
              "79999  18.620771  18.67949  0.000772  17.31960  17.42544  159.823621  5312   \n",
              "\n",
              "                 specobjid  field  plate  camcol         g  \\\n",
              "0       583309923396381000    388    518       4  17.89648   \n",
              "1      2471445199432210000    126   2195       3  16.38217   \n",
              "2      2742700762298610000    151   2436       4  16.52253   \n",
              "3      1125959874568550000    276   1000       2  17.74360   \n",
              "4       363748710133295000    140    323       3  17.80134   \n",
              "...                    ...    ...    ...     ...       ...   \n",
              "79995  1477349224591940000    276   1312       5  18.03106   \n",
              "79996  5334601264587360000    178   4738       5  17.78212   \n",
              "79997  1000975639395720000     56    889       3  17.06923   \n",
              "79998  3314804157889670000    167   2944       5  16.69588   \n",
              "79999  6627192913079330000    183   5886       4  17.73353   \n",
              "\n",
              "                     objid  class  fiberid  rerun         i    mjd  \n",
              "0      1237651736831980000      1      341    301  16.63305  52282  \n",
              "1      1237666227497600000      0      345    301  15.92649  54234  \n",
              "2      1237670965385040000      1       31    301  15.32356  54054  \n",
              "3      1237658298460930000      1      218    301  16.48322  52643  \n",
              "4      1237674649929380000      0      302    301  17.21479  51615  \n",
              "...                    ...    ...      ...    ...       ...    ...  \n",
              "79995  1237657612876780000      1      613    301  16.86924  52781  \n",
              "79996  1237651754534960000      0      318    301  17.36612  55650  \n",
              "79997  1237657594608750000      1      184    301  15.92962  52663  \n",
              "79998  1237667207826570000      0      563    301  15.91642  54523  \n",
              "79999  1237668289622510000      0      531    301  17.30182  56034  \n",
              "\n",
              "[80000 rows x 18 columns]"
            ],
            "text/html": [
              "\n",
              "  <div id=\"df-ffd62484-e806-4496-917c-4ad34550c6b9\">\n",
              "    <div class=\"colab-df-container\">\n",
              "      <div>\n",
              "<style scoped>\n",
              "    .dataframe tbody tr th:only-of-type {\n",
              "        vertical-align: middle;\n",
              "    }\n",
              "\n",
              "    .dataframe tbody tr th {\n",
              "        vertical-align: top;\n",
              "    }\n",
              "\n",
              "    .dataframe thead th {\n",
              "        text-align: right;\n",
              "    }\n",
              "</style>\n",
              "<table border=\"1\" class=\"dataframe\">\n",
              "  <thead>\n",
              "    <tr style=\"text-align: right;\">\n",
              "      <th></th>\n",
              "      <th>dec</th>\n",
              "      <th>u</th>\n",
              "      <th>redshift</th>\n",
              "      <th>z</th>\n",
              "      <th>r</th>\n",
              "      <th>ra</th>\n",
              "      <th>run</th>\n",
              "      <th>specobjid</th>\n",
              "      <th>field</th>\n",
              "      <th>plate</th>\n",
              "      <th>camcol</th>\n",
              "      <th>g</th>\n",
              "      <th>objid</th>\n",
              "      <th>class</th>\n",
              "      <th>fiberid</th>\n",
              "      <th>rerun</th>\n",
              "      <th>i</th>\n",
              "      <th>mjd</th>\n",
              "    </tr>\n",
              "  </thead>\n",
              "  <tbody>\n",
              "    <tr>\n",
              "      <th>0</th>\n",
              "      <td>2.803170</td>\n",
              "      <td>19.35065</td>\n",
              "      <td>0.142265</td>\n",
              "      <td>16.32664</td>\n",
              "      <td>17.04886</td>\n",
              "      <td>182.898466</td>\n",
              "      <td>1458</td>\n",
              "      <td>583309923396381000</td>\n",
              "      <td>388</td>\n",
              "      <td>518</td>\n",
              "      <td>4</td>\n",
              "      <td>17.89648</td>\n",
              "      <td>1237651736831980000</td>\n",
              "      <td>1</td>\n",
              "      <td>341</td>\n",
              "      <td>301</td>\n",
              "      <td>16.63305</td>\n",
              "      <td>52282</td>\n",
              "    </tr>\n",
              "    <tr>\n",
              "      <th>1</th>\n",
              "      <td>23.891666</td>\n",
              "      <td>17.57148</td>\n",
              "      <td>0.000032</td>\n",
              "      <td>15.88743</td>\n",
              "      <td>16.04065</td>\n",
              "      <td>270.240850</td>\n",
              "      <td>4832</td>\n",
              "      <td>2471445199432210000</td>\n",
              "      <td>126</td>\n",
              "      <td>2195</td>\n",
              "      <td>3</td>\n",
              "      <td>16.38217</td>\n",
              "      <td>1237666227497600000</td>\n",
              "      <td>0</td>\n",
              "      <td>345</td>\n",
              "      <td>301</td>\n",
              "      <td>15.92649</td>\n",
              "      <td>54234</td>\n",
              "    </tr>\n",
              "    <tr>\n",
              "      <th>2</th>\n",
              "      <td>14.323357</td>\n",
              "      <td>18.30611</td>\n",
              "      <td>0.073976</td>\n",
              "      <td>15.00599</td>\n",
              "      <td>15.73859</td>\n",
              "      <td>138.913885</td>\n",
              "      <td>5935</td>\n",
              "      <td>2742700762298610000</td>\n",
              "      <td>151</td>\n",
              "      <td>2436</td>\n",
              "      <td>4</td>\n",
              "      <td>16.52253</td>\n",
              "      <td>1237670965385040000</td>\n",
              "      <td>1</td>\n",
              "      <td>31</td>\n",
              "      <td>301</td>\n",
              "      <td>15.32356</td>\n",
              "      <td>54054</td>\n",
              "    </tr>\n",
              "    <tr>\n",
              "      <th>3</th>\n",
              "      <td>6.157200</td>\n",
              "      <td>19.52862</td>\n",
              "      <td>0.040765</td>\n",
              "      <td>16.13952</td>\n",
              "      <td>16.88640</td>\n",
              "      <td>159.998722</td>\n",
              "      <td>2986</td>\n",
              "      <td>1125959874568550000</td>\n",
              "      <td>276</td>\n",
              "      <td>1000</td>\n",
              "      <td>2</td>\n",
              "      <td>17.74360</td>\n",
              "      <td>1237658298460930000</td>\n",
              "      <td>1</td>\n",
              "      <td>218</td>\n",
              "      <td>301</td>\n",
              "      <td>16.48322</td>\n",
              "      <td>52643</td>\n",
              "    </tr>\n",
              "    <tr>\n",
              "      <th>4</th>\n",
              "      <td>-0.395033</td>\n",
              "      <td>18.91353</td>\n",
              "      <td>0.000084</td>\n",
              "      <td>17.14535</td>\n",
              "      <td>17.36865</td>\n",
              "      <td>181.624546</td>\n",
              "      <td>6793</td>\n",
              "      <td>363748710133295000</td>\n",
              "      <td>140</td>\n",
              "      <td>323</td>\n",
              "      <td>3</td>\n",
              "      <td>17.80134</td>\n",
              "      <td>1237674649929380000</td>\n",
              "      <td>0</td>\n",
              "      <td>302</td>\n",
              "      <td>301</td>\n",
              "      <td>17.21479</td>\n",
              "      <td>51615</td>\n",
              "    </tr>\n",
              "    <tr>\n",
              "      <th>...</th>\n",
              "      <td>...</td>\n",
              "      <td>...</td>\n",
              "      <td>...</td>\n",
              "      <td>...</td>\n",
              "      <td>...</td>\n",
              "      <td>...</td>\n",
              "      <td>...</td>\n",
              "      <td>...</td>\n",
              "      <td>...</td>\n",
              "      <td>...</td>\n",
              "      <td>...</td>\n",
              "      <td>...</td>\n",
              "      <td>...</td>\n",
              "      <td>...</td>\n",
              "      <td>...</td>\n",
              "      <td>...</td>\n",
              "      <td>...</td>\n",
              "      <td>...</td>\n",
              "    </tr>\n",
              "    <tr>\n",
              "      <th>79995</th>\n",
              "      <td>58.093491</td>\n",
              "      <td>19.36814</td>\n",
              "      <td>0.102927</td>\n",
              "      <td>16.57812</td>\n",
              "      <td>17.29029</td>\n",
              "      <td>179.797354</td>\n",
              "      <td>2826</td>\n",
              "      <td>1477349224591940000</td>\n",
              "      <td>276</td>\n",
              "      <td>1312</td>\n",
              "      <td>5</td>\n",
              "      <td>18.03106</td>\n",
              "      <td>1237657612876780000</td>\n",
              "      <td>1</td>\n",
              "      <td>613</td>\n",
              "      <td>301</td>\n",
              "      <td>16.86924</td>\n",
              "      <td>52781</td>\n",
              "    </tr>\n",
              "    <tr>\n",
              "      <th>79996</th>\n",
              "      <td>2.612478</td>\n",
              "      <td>18.71973</td>\n",
              "      <td>0.000426</td>\n",
              "      <td>17.33746</td>\n",
              "      <td>17.49476</td>\n",
              "      <td>151.950921</td>\n",
              "      <td>1462</td>\n",
              "      <td>5334601264587360000</td>\n",
              "      <td>178</td>\n",
              "      <td>4738</td>\n",
              "      <td>5</td>\n",
              "      <td>17.78212</td>\n",
              "      <td>1237651754534960000</td>\n",
              "      <td>0</td>\n",
              "      <td>318</td>\n",
              "      <td>301</td>\n",
              "      <td>17.36612</td>\n",
              "      <td>55650</td>\n",
              "    </tr>\n",
              "    <tr>\n",
              "      <th>79997</th>\n",
              "      <td>29.385913</td>\n",
              "      <td>18.62474</td>\n",
              "      <td>0.057637</td>\n",
              "      <td>15.65200</td>\n",
              "      <td>16.30223</td>\n",
              "      <td>116.238594</td>\n",
              "      <td>2822</td>\n",
              "      <td>1000975639395720000</td>\n",
              "      <td>56</td>\n",
              "      <td>889</td>\n",
              "      <td>3</td>\n",
              "      <td>17.06923</td>\n",
              "      <td>1237657594608750000</td>\n",
              "      <td>1</td>\n",
              "      <td>184</td>\n",
              "      <td>301</td>\n",
              "      <td>15.92962</td>\n",
              "      <td>52663</td>\n",
              "    </tr>\n",
              "    <tr>\n",
              "      <th>79998</th>\n",
              "      <td>66.773361</td>\n",
              "      <td>18.04600</td>\n",
              "      <td>0.000060</td>\n",
              "      <td>15.79832</td>\n",
              "      <td>16.14084</td>\n",
              "      <td>117.910037</td>\n",
              "      <td>5060</td>\n",
              "      <td>3314804157889670000</td>\n",
              "      <td>167</td>\n",
              "      <td>2944</td>\n",
              "      <td>5</td>\n",
              "      <td>16.69588</td>\n",
              "      <td>1237667207826570000</td>\n",
              "      <td>0</td>\n",
              "      <td>563</td>\n",
              "      <td>301</td>\n",
              "      <td>15.91642</td>\n",
              "      <td>54523</td>\n",
              "    </tr>\n",
              "    <tr>\n",
              "      <th>79999</th>\n",
              "      <td>18.620771</td>\n",
              "      <td>18.67949</td>\n",
              "      <td>0.000772</td>\n",
              "      <td>17.31960</td>\n",
              "      <td>17.42544</td>\n",
              "      <td>159.823621</td>\n",
              "      <td>5312</td>\n",
              "      <td>6627192913079330000</td>\n",
              "      <td>183</td>\n",
              "      <td>5886</td>\n",
              "      <td>4</td>\n",
              "      <td>17.73353</td>\n",
              "      <td>1237668289622510000</td>\n",
              "      <td>0</td>\n",
              "      <td>531</td>\n",
              "      <td>301</td>\n",
              "      <td>17.30182</td>\n",
              "      <td>56034</td>\n",
              "    </tr>\n",
              "  </tbody>\n",
              "</table>\n",
              "<p>80000 rows × 18 columns</p>\n",
              "</div>\n",
              "      <button class=\"colab-df-convert\" onclick=\"convertToInteractive('df-ffd62484-e806-4496-917c-4ad34550c6b9')\"\n",
              "              title=\"Convert this dataframe to an interactive table.\"\n",
              "              style=\"display:none;\">\n",
              "        \n",
              "  <svg xmlns=\"http://www.w3.org/2000/svg\" height=\"24px\"viewBox=\"0 0 24 24\"\n",
              "       width=\"24px\">\n",
              "    <path d=\"M0 0h24v24H0V0z\" fill=\"none\"/>\n",
              "    <path d=\"M18.56 5.44l.94 2.06.94-2.06 2.06-.94-2.06-.94-.94-2.06-.94 2.06-2.06.94zm-11 1L8.5 8.5l.94-2.06 2.06-.94-2.06-.94L8.5 2.5l-.94 2.06-2.06.94zm10 10l.94 2.06.94-2.06 2.06-.94-2.06-.94-.94-2.06-.94 2.06-2.06.94z\"/><path d=\"M17.41 7.96l-1.37-1.37c-.4-.4-.92-.59-1.43-.59-.52 0-1.04.2-1.43.59L10.3 9.45l-7.72 7.72c-.78.78-.78 2.05 0 2.83L4 21.41c.39.39.9.59 1.41.59.51 0 1.02-.2 1.41-.59l7.78-7.78 2.81-2.81c.8-.78.8-2.07 0-2.86zM5.41 20L4 18.59l7.72-7.72 1.47 1.35L5.41 20z\"/>\n",
              "  </svg>\n",
              "      </button>\n",
              "      \n",
              "  <style>\n",
              "    .colab-df-container {\n",
              "      display:flex;\n",
              "      flex-wrap:wrap;\n",
              "      gap: 12px;\n",
              "    }\n",
              "\n",
              "    .colab-df-convert {\n",
              "      background-color: #E8F0FE;\n",
              "      border: none;\n",
              "      border-radius: 50%;\n",
              "      cursor: pointer;\n",
              "      display: none;\n",
              "      fill: #1967D2;\n",
              "      height: 32px;\n",
              "      padding: 0 0 0 0;\n",
              "      width: 32px;\n",
              "    }\n",
              "\n",
              "    .colab-df-convert:hover {\n",
              "      background-color: #E2EBFA;\n",
              "      box-shadow: 0px 1px 2px rgba(60, 64, 67, 0.3), 0px 1px 3px 1px rgba(60, 64, 67, 0.15);\n",
              "      fill: #174EA6;\n",
              "    }\n",
              "\n",
              "    [theme=dark] .colab-df-convert {\n",
              "      background-color: #3B4455;\n",
              "      fill: #D2E3FC;\n",
              "    }\n",
              "\n",
              "    [theme=dark] .colab-df-convert:hover {\n",
              "      background-color: #434B5C;\n",
              "      box-shadow: 0px 1px 3px 1px rgba(0, 0, 0, 0.15);\n",
              "      filter: drop-shadow(0px 1px 2px rgba(0, 0, 0, 0.3));\n",
              "      fill: #FFFFFF;\n",
              "    }\n",
              "  </style>\n",
              "\n",
              "      <script>\n",
              "        const buttonEl =\n",
              "          document.querySelector('#df-ffd62484-e806-4496-917c-4ad34550c6b9 button.colab-df-convert');\n",
              "        buttonEl.style.display =\n",
              "          google.colab.kernel.accessAllowed ? 'block' : 'none';\n",
              "\n",
              "        async function convertToInteractive(key) {\n",
              "          const element = document.querySelector('#df-ffd62484-e806-4496-917c-4ad34550c6b9');\n",
              "          const dataTable =\n",
              "            await google.colab.kernel.invokeFunction('convertToInteractive',\n",
              "                                                     [key], {});\n",
              "          if (!dataTable) return;\n",
              "\n",
              "          const docLinkHtml = 'Like what you see? Visit the ' +\n",
              "            '<a target=\"_blank\" href=https://colab.research.google.com/notebooks/data_table.ipynb>data table notebook</a>'\n",
              "            + ' to learn more about interactive tables.';\n",
              "          element.innerHTML = '';\n",
              "          dataTable['output_type'] = 'display_data';\n",
              "          await google.colab.output.renderOutput(dataTable, element);\n",
              "          const docLink = document.createElement('div');\n",
              "          docLink.innerHTML = docLinkHtml;\n",
              "          element.appendChild(docLink);\n",
              "        }\n",
              "      </script>\n",
              "    </div>\n",
              "  </div>\n",
              "  "
            ]
          },
          "metadata": {},
          "execution_count": 32
        }
      ]
    },
    {
      "cell_type": "markdown",
      "source": [
        "**Compose the sets X and y**"
      ],
      "metadata": {
        "id": "VLiOSy5WMB2t"
      }
    },
    {
      "cell_type": "code",
      "source": [
        "y = X_train['class']\n",
        "X = X_train[['dec','u','redshift','z','r','ra','run','specobjid','field','plate','camcol','g','objid','fiberid','rerun','i','mjd']]"
      ],
      "metadata": {
        "id": "n9ByRJ_1_Xk5"
      },
      "execution_count": null,
      "outputs": []
    },
    {
      "cell_type": "code",
      "source": [
        "X.head()"
      ],
      "metadata": {
        "colab": {
          "base_uri": "https://localhost:8080/",
          "height": 270
        },
        "id": "iFW4fHYnHyLM",
        "outputId": "032429fa-69af-4b4d-9688-dd858a22957d"
      },
      "execution_count": null,
      "outputs": [
        {
          "output_type": "execute_result",
          "data": {
            "text/plain": [
              "         dec         u  redshift         z         r          ra   run  \\\n",
              "0   2.803170  19.35065  0.142265  16.32664  17.04886  182.898466  1458   \n",
              "1  23.891666  17.57148  0.000032  15.88743  16.04065  270.240850  4832   \n",
              "2  14.323357  18.30611  0.073976  15.00599  15.73859  138.913885  5935   \n",
              "3   6.157200  19.52862  0.040765  16.13952  16.88640  159.998722  2986   \n",
              "4  -0.395033  18.91353  0.000084  17.14535  17.36865  181.624546  6793   \n",
              "\n",
              "             specobjid  field  plate  camcol         g                objid  \\\n",
              "0   583309923396381000    388    518       4  17.89648  1237651736831980000   \n",
              "1  2471445199432210000    126   2195       3  16.38217  1237666227497600000   \n",
              "2  2742700762298610000    151   2436       4  16.52253  1237670965385040000   \n",
              "3  1125959874568550000    276   1000       2  17.74360  1237658298460930000   \n",
              "4   363748710133295000    140    323       3  17.80134  1237674649929380000   \n",
              "\n",
              "   fiberid  rerun         i    mjd  \n",
              "0      341    301  16.63305  52282  \n",
              "1      345    301  15.92649  54234  \n",
              "2       31    301  15.32356  54054  \n",
              "3      218    301  16.48322  52643  \n",
              "4      302    301  17.21479  51615  "
            ],
            "text/html": [
              "\n",
              "  <div id=\"df-4ddf36e8-f5bb-45b9-9428-77463509f13f\">\n",
              "    <div class=\"colab-df-container\">\n",
              "      <div>\n",
              "<style scoped>\n",
              "    .dataframe tbody tr th:only-of-type {\n",
              "        vertical-align: middle;\n",
              "    }\n",
              "\n",
              "    .dataframe tbody tr th {\n",
              "        vertical-align: top;\n",
              "    }\n",
              "\n",
              "    .dataframe thead th {\n",
              "        text-align: right;\n",
              "    }\n",
              "</style>\n",
              "<table border=\"1\" class=\"dataframe\">\n",
              "  <thead>\n",
              "    <tr style=\"text-align: right;\">\n",
              "      <th></th>\n",
              "      <th>dec</th>\n",
              "      <th>u</th>\n",
              "      <th>redshift</th>\n",
              "      <th>z</th>\n",
              "      <th>r</th>\n",
              "      <th>ra</th>\n",
              "      <th>run</th>\n",
              "      <th>specobjid</th>\n",
              "      <th>field</th>\n",
              "      <th>plate</th>\n",
              "      <th>camcol</th>\n",
              "      <th>g</th>\n",
              "      <th>objid</th>\n",
              "      <th>fiberid</th>\n",
              "      <th>rerun</th>\n",
              "      <th>i</th>\n",
              "      <th>mjd</th>\n",
              "    </tr>\n",
              "  </thead>\n",
              "  <tbody>\n",
              "    <tr>\n",
              "      <th>0</th>\n",
              "      <td>2.803170</td>\n",
              "      <td>19.35065</td>\n",
              "      <td>0.142265</td>\n",
              "      <td>16.32664</td>\n",
              "      <td>17.04886</td>\n",
              "      <td>182.898466</td>\n",
              "      <td>1458</td>\n",
              "      <td>583309923396381000</td>\n",
              "      <td>388</td>\n",
              "      <td>518</td>\n",
              "      <td>4</td>\n",
              "      <td>17.89648</td>\n",
              "      <td>1237651736831980000</td>\n",
              "      <td>341</td>\n",
              "      <td>301</td>\n",
              "      <td>16.63305</td>\n",
              "      <td>52282</td>\n",
              "    </tr>\n",
              "    <tr>\n",
              "      <th>1</th>\n",
              "      <td>23.891666</td>\n",
              "      <td>17.57148</td>\n",
              "      <td>0.000032</td>\n",
              "      <td>15.88743</td>\n",
              "      <td>16.04065</td>\n",
              "      <td>270.240850</td>\n",
              "      <td>4832</td>\n",
              "      <td>2471445199432210000</td>\n",
              "      <td>126</td>\n",
              "      <td>2195</td>\n",
              "      <td>3</td>\n",
              "      <td>16.38217</td>\n",
              "      <td>1237666227497600000</td>\n",
              "      <td>345</td>\n",
              "      <td>301</td>\n",
              "      <td>15.92649</td>\n",
              "      <td>54234</td>\n",
              "    </tr>\n",
              "    <tr>\n",
              "      <th>2</th>\n",
              "      <td>14.323357</td>\n",
              "      <td>18.30611</td>\n",
              "      <td>0.073976</td>\n",
              "      <td>15.00599</td>\n",
              "      <td>15.73859</td>\n",
              "      <td>138.913885</td>\n",
              "      <td>5935</td>\n",
              "      <td>2742700762298610000</td>\n",
              "      <td>151</td>\n",
              "      <td>2436</td>\n",
              "      <td>4</td>\n",
              "      <td>16.52253</td>\n",
              "      <td>1237670965385040000</td>\n",
              "      <td>31</td>\n",
              "      <td>301</td>\n",
              "      <td>15.32356</td>\n",
              "      <td>54054</td>\n",
              "    </tr>\n",
              "    <tr>\n",
              "      <th>3</th>\n",
              "      <td>6.157200</td>\n",
              "      <td>19.52862</td>\n",
              "      <td>0.040765</td>\n",
              "      <td>16.13952</td>\n",
              "      <td>16.88640</td>\n",
              "      <td>159.998722</td>\n",
              "      <td>2986</td>\n",
              "      <td>1125959874568550000</td>\n",
              "      <td>276</td>\n",
              "      <td>1000</td>\n",
              "      <td>2</td>\n",
              "      <td>17.74360</td>\n",
              "      <td>1237658298460930000</td>\n",
              "      <td>218</td>\n",
              "      <td>301</td>\n",
              "      <td>16.48322</td>\n",
              "      <td>52643</td>\n",
              "    </tr>\n",
              "    <tr>\n",
              "      <th>4</th>\n",
              "      <td>-0.395033</td>\n",
              "      <td>18.91353</td>\n",
              "      <td>0.000084</td>\n",
              "      <td>17.14535</td>\n",
              "      <td>17.36865</td>\n",
              "      <td>181.624546</td>\n",
              "      <td>6793</td>\n",
              "      <td>363748710133295000</td>\n",
              "      <td>140</td>\n",
              "      <td>323</td>\n",
              "      <td>3</td>\n",
              "      <td>17.80134</td>\n",
              "      <td>1237674649929380000</td>\n",
              "      <td>302</td>\n",
              "      <td>301</td>\n",
              "      <td>17.21479</td>\n",
              "      <td>51615</td>\n",
              "    </tr>\n",
              "  </tbody>\n",
              "</table>\n",
              "</div>\n",
              "      <button class=\"colab-df-convert\" onclick=\"convertToInteractive('df-4ddf36e8-f5bb-45b9-9428-77463509f13f')\"\n",
              "              title=\"Convert this dataframe to an interactive table.\"\n",
              "              style=\"display:none;\">\n",
              "        \n",
              "  <svg xmlns=\"http://www.w3.org/2000/svg\" height=\"24px\"viewBox=\"0 0 24 24\"\n",
              "       width=\"24px\">\n",
              "    <path d=\"M0 0h24v24H0V0z\" fill=\"none\"/>\n",
              "    <path d=\"M18.56 5.44l.94 2.06.94-2.06 2.06-.94-2.06-.94-.94-2.06-.94 2.06-2.06.94zm-11 1L8.5 8.5l.94-2.06 2.06-.94-2.06-.94L8.5 2.5l-.94 2.06-2.06.94zm10 10l.94 2.06.94-2.06 2.06-.94-2.06-.94-.94-2.06-.94 2.06-2.06.94z\"/><path d=\"M17.41 7.96l-1.37-1.37c-.4-.4-.92-.59-1.43-.59-.52 0-1.04.2-1.43.59L10.3 9.45l-7.72 7.72c-.78.78-.78 2.05 0 2.83L4 21.41c.39.39.9.59 1.41.59.51 0 1.02-.2 1.41-.59l7.78-7.78 2.81-2.81c.8-.78.8-2.07 0-2.86zM5.41 20L4 18.59l7.72-7.72 1.47 1.35L5.41 20z\"/>\n",
              "  </svg>\n",
              "      </button>\n",
              "      \n",
              "  <style>\n",
              "    .colab-df-container {\n",
              "      display:flex;\n",
              "      flex-wrap:wrap;\n",
              "      gap: 12px;\n",
              "    }\n",
              "\n",
              "    .colab-df-convert {\n",
              "      background-color: #E8F0FE;\n",
              "      border: none;\n",
              "      border-radius: 50%;\n",
              "      cursor: pointer;\n",
              "      display: none;\n",
              "      fill: #1967D2;\n",
              "      height: 32px;\n",
              "      padding: 0 0 0 0;\n",
              "      width: 32px;\n",
              "    }\n",
              "\n",
              "    .colab-df-convert:hover {\n",
              "      background-color: #E2EBFA;\n",
              "      box-shadow: 0px 1px 2px rgba(60, 64, 67, 0.3), 0px 1px 3px 1px rgba(60, 64, 67, 0.15);\n",
              "      fill: #174EA6;\n",
              "    }\n",
              "\n",
              "    [theme=dark] .colab-df-convert {\n",
              "      background-color: #3B4455;\n",
              "      fill: #D2E3FC;\n",
              "    }\n",
              "\n",
              "    [theme=dark] .colab-df-convert:hover {\n",
              "      background-color: #434B5C;\n",
              "      box-shadow: 0px 1px 3px 1px rgba(0, 0, 0, 0.15);\n",
              "      filter: drop-shadow(0px 1px 2px rgba(0, 0, 0, 0.3));\n",
              "      fill: #FFFFFF;\n",
              "    }\n",
              "  </style>\n",
              "\n",
              "      <script>\n",
              "        const buttonEl =\n",
              "          document.querySelector('#df-4ddf36e8-f5bb-45b9-9428-77463509f13f button.colab-df-convert');\n",
              "        buttonEl.style.display =\n",
              "          google.colab.kernel.accessAllowed ? 'block' : 'none';\n",
              "\n",
              "        async function convertToInteractive(key) {\n",
              "          const element = document.querySelector('#df-4ddf36e8-f5bb-45b9-9428-77463509f13f');\n",
              "          const dataTable =\n",
              "            await google.colab.kernel.invokeFunction('convertToInteractive',\n",
              "                                                     [key], {});\n",
              "          if (!dataTable) return;\n",
              "\n",
              "          const docLinkHtml = 'Like what you see? Visit the ' +\n",
              "            '<a target=\"_blank\" href=https://colab.research.google.com/notebooks/data_table.ipynb>data table notebook</a>'\n",
              "            + ' to learn more about interactive tables.';\n",
              "          element.innerHTML = '';\n",
              "          dataTable['output_type'] = 'display_data';\n",
              "          await google.colab.output.renderOutput(dataTable, element);\n",
              "          const docLink = document.createElement('div');\n",
              "          docLink.innerHTML = docLinkHtml;\n",
              "          element.appendChild(docLink);\n",
              "        }\n",
              "      </script>\n",
              "    </div>\n",
              "  </div>\n",
              "  "
            ]
          },
          "metadata": {},
          "execution_count": 34
        }
      ]
    },
    {
      "cell_type": "code",
      "source": [
        "y"
      ],
      "metadata": {
        "colab": {
          "base_uri": "https://localhost:8080/"
        },
        "id": "7T_6POJKHzbd",
        "outputId": "3c1f4ac6-85bd-447c-fa2f-251c7d278a3e"
      },
      "execution_count": null,
      "outputs": [
        {
          "output_type": "execute_result",
          "data": {
            "text/plain": [
              "0        1\n",
              "1        0\n",
              "2        1\n",
              "3        1\n",
              "4        0\n",
              "        ..\n",
              "79995    1\n",
              "79996    0\n",
              "79997    1\n",
              "79998    0\n",
              "79999    0\n",
              "Name: class, Length: 80000, dtype: int64"
            ]
          },
          "metadata": {},
          "execution_count": 35
        }
      ]
    },
    {
      "cell_type": "markdown",
      "source": [
        "**Split the dataset into samples**"
      ],
      "metadata": {
        "id": "Q1jIznwWMPfI"
      }
    },
    {
      "cell_type": "code",
      "source": [
        "from sklearn.model_selection import train_test_split\n",
        "\n",
        "X_train, X_test, y_train, y_test = train_test_split(X, y, test_size=0.2, random_state=1810, stratify=y)"
      ],
      "metadata": {
        "id": "fNuHqGsnH1ps"
      },
      "execution_count": null,
      "outputs": []
    },
    {
      "cell_type": "code",
      "source": [
        "print(X.shape)\n",
        "print(X_train.shape) \n",
        "print(X_test.shape)"
      ],
      "metadata": {
        "colab": {
          "base_uri": "https://localhost:8080/"
        },
        "id": "3o0TWJZbIKEz",
        "outputId": "6c1a0503-029e-4985-c0f3-6d15e79a82a2"
      },
      "execution_count": null,
      "outputs": [
        {
          "output_type": "stream",
          "name": "stdout",
          "text": [
            "(80000, 17)\n",
            "(64000, 17)\n",
            "(16000, 17)\n"
          ]
        }
      ]
    },
    {
      "cell_type": "markdown",
      "source": [
        "Build a **Decision Tree** model"
      ],
      "metadata": {
        "id": "vVoz7eOOMjz_"
      }
    },
    {
      "cell_type": "markdown",
      "source": [
        "This model was chosen because of its obvious advantages, such as: \n",
        "1. Able to handle both numerical and categorical data. \n",
        "2. Requires little data preparation.\n",
        "3. Possible to validate a model using statistical tests.\n",
        "4. Decision trees can approximate any Boolean function"
      ],
      "metadata": {
        "id": "3bq6h2m4ZNxn"
      }
    },
    {
      "cell_type": "code",
      "source": [
        "from sklearn.tree import DecisionTreeClassifier\n",
        "from sklearn.tree import plot_tree\n",
        "from sklearn.metrics import accuracy_score\n",
        "\n",
        "model = DecisionTreeClassifier(max_depth=4)\n",
        "# train the model\n",
        "model.fit(X_train, y_train)\n",
        "\n",
        "# get predictions\n",
        "y_pred = model.predict(X_test)\n",
        "\n",
        "# measure the quality of the model\n",
        "accuracy = accuracy_score(y_pred, y_test)\n",
        "print(accuracy)"
      ],
      "metadata": {
        "colab": {
          "base_uri": "https://localhost:8080/"
        },
        "id": "A_1GaZNzIMIb",
        "outputId": "4a2ea1f5-a735-40ec-a831-449c23f1de78"
      },
      "execution_count": null,
      "outputs": [
        {
          "output_type": "stream",
          "name": "stdout",
          "text": [
            "0.9969375\n"
          ]
        }
      ]
    },
    {
      "cell_type": "markdown",
      "source": [
        "As you can see from the result, the model quite accurately predicted all the sample provided to it, this tells us about 3 things: the data is clean, the chosen model did a good perfomance with the task given to it"
      ],
      "metadata": {
        "id": "W54CEc3SXFeK"
      }
    },
    {
      "cell_type": "markdown",
      "source": [
        "**Matrix of errors**"
      ],
      "metadata": {
        "id": "tVsjENW8NCWE"
      }
    },
    {
      "cell_type": "code",
      "source": [
        "from sklearn.metrics import confusion_matrix\n",
        "confusion_matrix(y_test, y_pred)"
      ],
      "metadata": {
        "colab": {
          "base_uri": "https://localhost:8080/"
        },
        "id": "NiWLL41QIO8e",
        "outputId": "776548d9-1611-4e92-87c7-a7bbbf92b203"
      },
      "execution_count": null,
      "outputs": [
        {
          "output_type": "execute_result",
          "data": {
            "text/plain": [
              "array([[6762,   37],\n",
              "       [  12, 9189]])"
            ]
          },
          "metadata": {},
          "execution_count": 39
        }
      ]
    },
    {
      "cell_type": "code",
      "source": [
        "tn, fp, fn, tp = confusion_matrix(y_test, y_pred).ravel()\n",
        "tn, fp, fn, tp"
      ],
      "metadata": {
        "colab": {
          "base_uri": "https://localhost:8080/"
        },
        "id": "gsQwL1DvIR6R",
        "outputId": "5703dcf3-630e-4ca5-c3d2-d81f6a1f691c"
      },
      "execution_count": null,
      "outputs": [
        {
          "output_type": "execute_result",
          "data": {
            "text/plain": [
              "(6762, 37, 12, 9189)"
            ]
          },
          "metadata": {},
          "execution_count": 40
        }
      ]
    },
    {
      "cell_type": "code",
      "source": [
        "from sklearn.metrics import recall_score \n",
        "from sklearn.metrics import precision_score"
      ],
      "metadata": {
        "id": "Vm2AmYnGIVJ5"
      },
      "execution_count": null,
      "outputs": []
    },
    {
      "cell_type": "code",
      "source": [
        "print(recall_score(y_test, y_pred))\n",
        "print(precision_score(y_test, y_pred))"
      ],
      "metadata": {
        "colab": {
          "base_uri": "https://localhost:8080/"
        },
        "id": "hbYR-V1OIXI2",
        "outputId": "b116a9c3-9911-4d54-e8a8-cbb3a3bcb9f2"
      },
      "execution_count": null,
      "outputs": [
        {
          "output_type": "stream",
          "name": "stdout",
          "text": [
            "0.9986957939354418\n",
            "0.995989594623889\n"
          ]
        }
      ]
    },
    {
      "cell_type": "markdown",
      "source": [
        "**ROC_AUC (measuring correctness)**"
      ],
      "metadata": {
        "id": "Gt0x_PMzNLLn"
      }
    },
    {
      "cell_type": "markdown",
      "source": [
        "AUC stands for area under the ROC Curve. That is AUC measures the entire two-dimensional area underneath the entire ROC curve from (0,0) to (1,1)."
      ],
      "metadata": {
        "id": "N1yQibK4Y2N0"
      }
    },
    {
      "cell_type": "code",
      "source": [
        "from sklearn.metrics import roc_auc_score\n",
        "from sklearn.metrics import roc_curve\n",
        "auc = roc_auc_score(y_test, y_pred)\n",
        "auc"
      ],
      "metadata": {
        "colab": {
          "base_uri": "https://localhost:8080/"
        },
        "id": "CKT_5i2FIYzT",
        "outputId": "0fdf15e3-804c-4536-b45b-1639f3420ef9"
      },
      "execution_count": null,
      "outputs": [
        {
          "output_type": "execute_result",
          "data": {
            "text/plain": [
              "0.9966269085870768"
            ]
          },
          "metadata": {},
          "execution_count": 43
        }
      ]
    },
    {
      "cell_type": "markdown",
      "source": [
        "\n",
        "Now let's visualize the AUC metric"
      ],
      "metadata": {
        "id": "7KWAjRkJWmgY"
      }
    },
    {
      "cell_type": "code",
      "source": [
        "import matplotlib.pyplot as plt\n",
        "\n",
        "fpr, tpr, _ = roc_curve(y_test,  y_pred)\n",
        "plt.plot(fpr,tpr,label=\"auc=\"+str(auc))\n",
        "plt.legend(loc=4)\n",
        "plt.show()"
      ],
      "metadata": {
        "colab": {
          "base_uri": "https://localhost:8080/",
          "height": 265
        },
        "id": "kJ2cCqv3Ic4N",
        "outputId": "c6afd3c3-40da-4c49-f4da-0e185fefa453"
      },
      "execution_count": null,
      "outputs": [
        {
          "output_type": "display_data",
          "data": {
            "text/plain": [
              "<Figure size 432x288 with 1 Axes>"
            ],
            "image/png": "[encoded data removed]"
          },
          "metadata": {
            "needs_background": "light"
          }
        }
      ]
    },
    {
      "cell_type": "markdown",
      "source": [
        "**Visualizing a desicion tree**"
      ],
      "metadata": {
        "id": "_nWjpwtwNTlw"
      }
    },
    {
      "cell_type": "code",
      "source": [
        "plt.figure(figsize=(20,10))\n",
        "plot_tree(model, filled=True)\n",
        "plt.show()"
      ],
      "metadata": {
        "colab": {
          "base_uri": "https://localhost:8080/",
          "height": 328
        },
        "id": "ipQhElhpIfY-",
        "outputId": "ddaa4eb7-8cfd-4e2f-9cd7-675a18c5f197"
      },
      "execution_count": null,
      "outputs": [
        {
          "output_type": "display_data",
          "data": {
            "text/plain": [
              "<Figure size 1440x720 with 1 Axes>"
            ],
            "image/png": "[encoded data removed]"
          },
          "metadata": {
            "needs_background": "light"
          }
        }
      ]
    },
    {
      "cell_type": "markdown",
      "source": [
        "**Conclusion**\n",
        "\n",
        "It was fun.\n",
        "\n",
        "The fact that a clean dataset was provided and all with numerical data (except for the **class**) made the task much easier for me and for the selected model succeed in task.\n",
        "\n",
        "According to the results we got at the output, we can say that the chosen model .\n",
        "\n",
        "If the accuracy indicator were lower, then in this case it would be useful to look at the performance of other models, but since everything turned out well the first time (in which the pure dataset played an important role), there is no point in using other models. \n",
        "\n",
        "Among other things, if the accuracy indicator were not so high, then one could try to remove columns that did not differ much in average values ​​(for example, **dec** or **objid**), but this also makes no sense, at least within the framework of this task.\n"
      ],
      "metadata": {
        "id": "usJR19q_-7Tb"
      }
    }
  ]
}